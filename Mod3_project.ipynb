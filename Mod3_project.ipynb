{
  "nbformat": 4,
  "nbformat_minor": 0,
  "metadata": {
    "kernelspec": {
      "language": "python",
      "display_name": "Python 3",
      "name": "python3"
    },
    "language_info": {
      "pygments_lexer": "ipython3",
      "nbconvert_exporter": "python",
      "version": "3.6.4",
      "file_extension": ".py",
      "codemirror_mode": {
        "name": "ipython",
        "version": 3
      },
      "name": "python",
      "mimetype": "text/x-python"
    },
    "colab": {
      "provenance": [],
      "include_colab_link": true
    }
  },
  "cells": [
    {
      "cell_type": "markdown",
      "metadata": {
        "id": "view-in-github",
        "colab_type": "text"
      },
      "source": [
        "<a href=\"https://colab.research.google.com/github/GSURYAKIRAN/FMMLLAB/blob/main/Mod3_project.ipynb\" target=\"_parent\"><img src=\"https://colab.research.google.com/assets/colab-badge.svg\" alt=\"Open In Colab\"/></a>"
      ]
    },
    {
      "cell_type": "markdown",
      "metadata": {
        "_uuid": "8f2839f25d086af736a60e9eeb907d3b93b6e0e5",
        "_cell_guid": "b1076dfc-b9ad-4769-8c92-a6c4dae69d19",
        "trusted": true,
        "id": "unG213zJhFsx"
      },
      "source": [
        "# **FOUNDATIONS OF MODERN MACHINE LEARNING, IIIT Hyderabad**\n",
        "# Project : Data Visualization, Choosing K-value and Appreciating Feature Scaling and Standardization\n",
        "## Module Coordinator: Jashn Arora\n",
        "\n",
        "---"
      ]
    },
    {
      "cell_type": "markdown",
      "metadata": {
        "_uuid": "d629ff2d2480ee46fbb7e2d37f6b5fab8052498a",
        "collapsed": true,
        "_cell_guid": "79c7e3d0-c299-4dcb-8224-4455121ee9b0",
        "trusted": false,
        "id": "1YbIjlgrhFsz"
      },
      "source": [
        "## Binary Classification Task: Diabetes Dataset\n",
        "\n",
        "We’ll be using ML techniques learnt uptil now to predict whether a Pima Indian Woman has diabetes or not, based on information about the patient such as blood pressure, body mass index (BMI), age, etc.\n",
        "\n"
      ]
    },
    {
      "cell_type": "markdown",
      "metadata": {
        "id": "BcQGSOFchFs0"
      },
      "source": [
        "# Introduction\n",
        "\n",
        "Scientists carried out a study to investigate the significance of health-related predictors of diabetes in **Pima Indian Women**. The study population was females (21 years and above) of Pima Indian heritage.\n",
        "\n",
        "The purpose of the study was to find out the factors that are associated with the presence of diabetes in Pima Indians.\n",
        "\n",
        "To find out the reason behind this, we have to first analyze the relationship between different features, such as the number of times a woman was pregnant, their BMI, prevalence of diabetes, etc."
      ]
    },
    {
      "cell_type": "markdown",
      "metadata": {
        "id": "OQIjzjdvhFs1"
      },
      "source": [
        "## Exploratory Data Analysis (EDA) and Statistical Analysis"
      ]
    },
    {
      "cell_type": "markdown",
      "metadata": {
        "id": "RBuD7M7yhFs1"
      },
      "source": [
        "## Import Libraries"
      ]
    },
    {
      "cell_type": "code",
      "metadata": {
        "trusted": true,
        "id": "-61IRwW9hFs2"
      },
      "source": [
        "import numpy as np\n",
        "import pandas as pd\n",
        "import matplotlib.pyplot as plt\n",
        "import seaborn as sns\n",
        "%matplotlib inline\n",
        "\n",
        "sns.set_style('whitegrid')\n",
        "\n",
        "import warnings\n",
        "warnings.filterwarnings('ignore')"
      ],
      "execution_count": 1,
      "outputs": []
    },
    {
      "cell_type": "markdown",
      "metadata": {
        "id": "5PsuSvHBhFs2"
      },
      "source": [
        "## Importing the dataset"
      ]
    },
    {
      "cell_type": "code",
      "metadata": {
        "id": "su9YeUtjx7Vt",
        "colab": {
          "base_uri": "https://localhost:8080/",
          "height": 74
        },
        "outputId": "7ba0e6f2-c76f-4b2c-db8d-c009482e47d7"
      },
      "source": [
        "# Upload the preprocessed diabetes data CSV file that has been shared with you.\n",
        "# Run this cell, click on the 'Choose files' button and upload the file.\n",
        "from google.colab import files\n",
        "uploaded = files.upload()"
      ],
      "execution_count": 2,
      "outputs": [
        {
          "output_type": "display_data",
          "data": {
            "text/plain": [
              "<IPython.core.display.HTML object>"
            ],
            "text/html": [
              "\n",
              "     <input type=\"file\" id=\"files-2a0bd548-2bac-4415-bed5-55c0e380acb0\" name=\"files[]\" multiple disabled\n",
              "        style=\"border:none\" />\n",
              "     <output id=\"result-2a0bd548-2bac-4415-bed5-55c0e380acb0\">\n",
              "      Upload widget is only available when the cell has been executed in the\n",
              "      current browser session. Please rerun this cell to enable.\n",
              "      </output>\n",
              "      <script>// Copyright 2017 Google LLC\n",
              "//\n",
              "// Licensed under the Apache License, Version 2.0 (the \"License\");\n",
              "// you may not use this file except in compliance with the License.\n",
              "// You may obtain a copy of the License at\n",
              "//\n",
              "//      http://www.apache.org/licenses/LICENSE-2.0\n",
              "//\n",
              "// Unless required by applicable law or agreed to in writing, software\n",
              "// distributed under the License is distributed on an \"AS IS\" BASIS,\n",
              "// WITHOUT WARRANTIES OR CONDITIONS OF ANY KIND, either express or implied.\n",
              "// See the License for the specific language governing permissions and\n",
              "// limitations under the License.\n",
              "\n",
              "/**\n",
              " * @fileoverview Helpers for google.colab Python module.\n",
              " */\n",
              "(function(scope) {\n",
              "function span(text, styleAttributes = {}) {\n",
              "  const element = document.createElement('span');\n",
              "  element.textContent = text;\n",
              "  for (const key of Object.keys(styleAttributes)) {\n",
              "    element.style[key] = styleAttributes[key];\n",
              "  }\n",
              "  return element;\n",
              "}\n",
              "\n",
              "// Max number of bytes which will be uploaded at a time.\n",
              "const MAX_PAYLOAD_SIZE = 100 * 1024;\n",
              "\n",
              "function _uploadFiles(inputId, outputId) {\n",
              "  const steps = uploadFilesStep(inputId, outputId);\n",
              "  const outputElement = document.getElementById(outputId);\n",
              "  // Cache steps on the outputElement to make it available for the next call\n",
              "  // to uploadFilesContinue from Python.\n",
              "  outputElement.steps = steps;\n",
              "\n",
              "  return _uploadFilesContinue(outputId);\n",
              "}\n",
              "\n",
              "// This is roughly an async generator (not supported in the browser yet),\n",
              "// where there are multiple asynchronous steps and the Python side is going\n",
              "// to poll for completion of each step.\n",
              "// This uses a Promise to block the python side on completion of each step,\n",
              "// then passes the result of the previous step as the input to the next step.\n",
              "function _uploadFilesContinue(outputId) {\n",
              "  const outputElement = document.getElementById(outputId);\n",
              "  const steps = outputElement.steps;\n",
              "\n",
              "  const next = steps.next(outputElement.lastPromiseValue);\n",
              "  return Promise.resolve(next.value.promise).then((value) => {\n",
              "    // Cache the last promise value to make it available to the next\n",
              "    // step of the generator.\n",
              "    outputElement.lastPromiseValue = value;\n",
              "    return next.value.response;\n",
              "  });\n",
              "}\n",
              "\n",
              "/**\n",
              " * Generator function which is called between each async step of the upload\n",
              " * process.\n",
              " * @param {string} inputId Element ID of the input file picker element.\n",
              " * @param {string} outputId Element ID of the output display.\n",
              " * @return {!Iterable<!Object>} Iterable of next steps.\n",
              " */\n",
              "function* uploadFilesStep(inputId, outputId) {\n",
              "  const inputElement = document.getElementById(inputId);\n",
              "  inputElement.disabled = false;\n",
              "\n",
              "  const outputElement = document.getElementById(outputId);\n",
              "  outputElement.innerHTML = '';\n",
              "\n",
              "  const pickedPromise = new Promise((resolve) => {\n",
              "    inputElement.addEventListener('change', (e) => {\n",
              "      resolve(e.target.files);\n",
              "    });\n",
              "  });\n",
              "\n",
              "  const cancel = document.createElement('button');\n",
              "  inputElement.parentElement.appendChild(cancel);\n",
              "  cancel.textContent = 'Cancel upload';\n",
              "  const cancelPromise = new Promise((resolve) => {\n",
              "    cancel.onclick = () => {\n",
              "      resolve(null);\n",
              "    };\n",
              "  });\n",
              "\n",
              "  // Wait for the user to pick the files.\n",
              "  const files = yield {\n",
              "    promise: Promise.race([pickedPromise, cancelPromise]),\n",
              "    response: {\n",
              "      action: 'starting',\n",
              "    }\n",
              "  };\n",
              "\n",
              "  cancel.remove();\n",
              "\n",
              "  // Disable the input element since further picks are not allowed.\n",
              "  inputElement.disabled = true;\n",
              "\n",
              "  if (!files) {\n",
              "    return {\n",
              "      response: {\n",
              "        action: 'complete',\n",
              "      }\n",
              "    };\n",
              "  }\n",
              "\n",
              "  for (const file of files) {\n",
              "    const li = document.createElement('li');\n",
              "    li.append(span(file.name, {fontWeight: 'bold'}));\n",
              "    li.append(span(\n",
              "        `(${file.type || 'n/a'}) - ${file.size} bytes, ` +\n",
              "        `last modified: ${\n",
              "            file.lastModifiedDate ? file.lastModifiedDate.toLocaleDateString() :\n",
              "                                    'n/a'} - `));\n",
              "    const percent = span('0% done');\n",
              "    li.appendChild(percent);\n",
              "\n",
              "    outputElement.appendChild(li);\n",
              "\n",
              "    const fileDataPromise = new Promise((resolve) => {\n",
              "      const reader = new FileReader();\n",
              "      reader.onload = (e) => {\n",
              "        resolve(e.target.result);\n",
              "      };\n",
              "      reader.readAsArrayBuffer(file);\n",
              "    });\n",
              "    // Wait for the data to be ready.\n",
              "    let fileData = yield {\n",
              "      promise: fileDataPromise,\n",
              "      response: {\n",
              "        action: 'continue',\n",
              "      }\n",
              "    };\n",
              "\n",
              "    // Use a chunked sending to avoid message size limits. See b/62115660.\n",
              "    let position = 0;\n",
              "    do {\n",
              "      const length = Math.min(fileData.byteLength - position, MAX_PAYLOAD_SIZE);\n",
              "      const chunk = new Uint8Array(fileData, position, length);\n",
              "      position += length;\n",
              "\n",
              "      const base64 = btoa(String.fromCharCode.apply(null, chunk));\n",
              "      yield {\n",
              "        response: {\n",
              "          action: 'append',\n",
              "          file: file.name,\n",
              "          data: base64,\n",
              "        },\n",
              "      };\n",
              "\n",
              "      let percentDone = fileData.byteLength === 0 ?\n",
              "          100 :\n",
              "          Math.round((position / fileData.byteLength) * 100);\n",
              "      percent.textContent = `${percentDone}% done`;\n",
              "\n",
              "    } while (position < fileData.byteLength);\n",
              "  }\n",
              "\n",
              "  // All done.\n",
              "  yield {\n",
              "    response: {\n",
              "      action: 'complete',\n",
              "    }\n",
              "  };\n",
              "}\n",
              "\n",
              "scope.google = scope.google || {};\n",
              "scope.google.colab = scope.google.colab || {};\n",
              "scope.google.colab._files = {\n",
              "  _uploadFiles,\n",
              "  _uploadFilesContinue,\n",
              "};\n",
              "})(self);\n",
              "</script> "
            ]
          },
          "metadata": {}
        },
        {
          "output_type": "stream",
          "name": "stdout",
          "text": [
            "Saving preprocessed_diabetes_data.csv to preprocessed_diabetes_data.csv\n"
          ]
        }
      ]
    },
    {
      "cell_type": "code",
      "metadata": {
        "trusted": true,
        "id": "jD3AJ4bMhFs2"
      },
      "source": [
        "diabetes_data = pd.read_csv('preprocessed_diabetes_data.csv')"
      ],
      "execution_count": 3,
      "outputs": []
    },
    {
      "cell_type": "code",
      "metadata": {
        "trusted": true,
        "colab": {
          "base_uri": "https://localhost:8080/",
          "height": 363
        },
        "id": "QHXBgngihFs3",
        "outputId": "8ed21557-61eb-43e8-d4f4-226dabc107be"
      },
      "source": [
        "# View top 10 rows of the Diabetes dataset\n",
        "diabetes_data.head(10)"
      ],
      "execution_count": 4,
      "outputs": [
        {
          "output_type": "execute_result",
          "data": {
            "text/plain": [
              "   Pregnancies  Glucose  BloodPressure  SkinThickness  Insulin   BMI  \\\n",
              "0            6    148.0      72.000000           35.0    125.0  33.6   \n",
              "1            1     85.0      66.000000           29.0    125.0  26.6   \n",
              "2            8    183.0      64.000000           29.0    125.0  23.3   \n",
              "3            1     89.0      66.000000           23.0     94.0  28.1   \n",
              "4            0    137.0      40.000000           35.0    168.0  43.1   \n",
              "5            5    116.0      74.000000           29.0    125.0  25.6   \n",
              "6            3     78.0      50.000000           32.0     88.0  31.0   \n",
              "7           10    115.0      72.405184           29.0    125.0  35.3   \n",
              "8            2    197.0      70.000000           45.0    543.0  30.5   \n",
              "9            8    125.0      96.000000           29.0    125.0  32.3   \n",
              "\n",
              "   DiabetesPedigreeFunction  Age  Outcome  \n",
              "0                     0.627   50        1  \n",
              "1                     0.351   31        0  \n",
              "2                     0.672   32        1  \n",
              "3                     0.167   21        0  \n",
              "4                     2.288   33        1  \n",
              "5                     0.201   30        0  \n",
              "6                     0.248   26        1  \n",
              "7                     0.134   29        0  \n",
              "8                     0.158   53        1  \n",
              "9                     0.232   54        1  "
            ],
            "text/html": [
              "\n",
              "  <div id=\"df-bf990937-6fd1-4434-aa61-f01eff9ed884\" class=\"colab-df-container\">\n",
              "    <div>\n",
              "<style scoped>\n",
              "    .dataframe tbody tr th:only-of-type {\n",
              "        vertical-align: middle;\n",
              "    }\n",
              "\n",
              "    .dataframe tbody tr th {\n",
              "        vertical-align: top;\n",
              "    }\n",
              "\n",
              "    .dataframe thead th {\n",
              "        text-align: right;\n",
              "    }\n",
              "</style>\n",
              "<table border=\"1\" class=\"dataframe\">\n",
              "  <thead>\n",
              "    <tr style=\"text-align: right;\">\n",
              "      <th></th>\n",
              "      <th>Pregnancies</th>\n",
              "      <th>Glucose</th>\n",
              "      <th>BloodPressure</th>\n",
              "      <th>SkinThickness</th>\n",
              "      <th>Insulin</th>\n",
              "      <th>BMI</th>\n",
              "      <th>DiabetesPedigreeFunction</th>\n",
              "      <th>Age</th>\n",
              "      <th>Outcome</th>\n",
              "    </tr>\n",
              "  </thead>\n",
              "  <tbody>\n",
              "    <tr>\n",
              "      <th>0</th>\n",
              "      <td>6</td>\n",
              "      <td>148.0</td>\n",
              "      <td>72.000000</td>\n",
              "      <td>35.0</td>\n",
              "      <td>125.0</td>\n",
              "      <td>33.6</td>\n",
              "      <td>0.627</td>\n",
              "      <td>50</td>\n",
              "      <td>1</td>\n",
              "    </tr>\n",
              "    <tr>\n",
              "      <th>1</th>\n",
              "      <td>1</td>\n",
              "      <td>85.0</td>\n",
              "      <td>66.000000</td>\n",
              "      <td>29.0</td>\n",
              "      <td>125.0</td>\n",
              "      <td>26.6</td>\n",
              "      <td>0.351</td>\n",
              "      <td>31</td>\n",
              "      <td>0</td>\n",
              "    </tr>\n",
              "    <tr>\n",
              "      <th>2</th>\n",
              "      <td>8</td>\n",
              "      <td>183.0</td>\n",
              "      <td>64.000000</td>\n",
              "      <td>29.0</td>\n",
              "      <td>125.0</td>\n",
              "      <td>23.3</td>\n",
              "      <td>0.672</td>\n",
              "      <td>32</td>\n",
              "      <td>1</td>\n",
              "    </tr>\n",
              "    <tr>\n",
              "      <th>3</th>\n",
              "      <td>1</td>\n",
              "      <td>89.0</td>\n",
              "      <td>66.000000</td>\n",
              "      <td>23.0</td>\n",
              "      <td>94.0</td>\n",
              "      <td>28.1</td>\n",
              "      <td>0.167</td>\n",
              "      <td>21</td>\n",
              "      <td>0</td>\n",
              "    </tr>\n",
              "    <tr>\n",
              "      <th>4</th>\n",
              "      <td>0</td>\n",
              "      <td>137.0</td>\n",
              "      <td>40.000000</td>\n",
              "      <td>35.0</td>\n",
              "      <td>168.0</td>\n",
              "      <td>43.1</td>\n",
              "      <td>2.288</td>\n",
              "      <td>33</td>\n",
              "      <td>1</td>\n",
              "    </tr>\n",
              "    <tr>\n",
              "      <th>5</th>\n",
              "      <td>5</td>\n",
              "      <td>116.0</td>\n",
              "      <td>74.000000</td>\n",
              "      <td>29.0</td>\n",
              "      <td>125.0</td>\n",
              "      <td>25.6</td>\n",
              "      <td>0.201</td>\n",
              "      <td>30</td>\n",
              "      <td>0</td>\n",
              "    </tr>\n",
              "    <tr>\n",
              "      <th>6</th>\n",
              "      <td>3</td>\n",
              "      <td>78.0</td>\n",
              "      <td>50.000000</td>\n",
              "      <td>32.0</td>\n",
              "      <td>88.0</td>\n",
              "      <td>31.0</td>\n",
              "      <td>0.248</td>\n",
              "      <td>26</td>\n",
              "      <td>1</td>\n",
              "    </tr>\n",
              "    <tr>\n",
              "      <th>7</th>\n",
              "      <td>10</td>\n",
              "      <td>115.0</td>\n",
              "      <td>72.405184</td>\n",
              "      <td>29.0</td>\n",
              "      <td>125.0</td>\n",
              "      <td>35.3</td>\n",
              "      <td>0.134</td>\n",
              "      <td>29</td>\n",
              "      <td>0</td>\n",
              "    </tr>\n",
              "    <tr>\n",
              "      <th>8</th>\n",
              "      <td>2</td>\n",
              "      <td>197.0</td>\n",
              "      <td>70.000000</td>\n",
              "      <td>45.0</td>\n",
              "      <td>543.0</td>\n",
              "      <td>30.5</td>\n",
              "      <td>0.158</td>\n",
              "      <td>53</td>\n",
              "      <td>1</td>\n",
              "    </tr>\n",
              "    <tr>\n",
              "      <th>9</th>\n",
              "      <td>8</td>\n",
              "      <td>125.0</td>\n",
              "      <td>96.000000</td>\n",
              "      <td>29.0</td>\n",
              "      <td>125.0</td>\n",
              "      <td>32.3</td>\n",
              "      <td>0.232</td>\n",
              "      <td>54</td>\n",
              "      <td>1</td>\n",
              "    </tr>\n",
              "  </tbody>\n",
              "</table>\n",
              "</div>\n",
              "    <div class=\"colab-df-buttons\">\n",
              "\n",
              "  <div class=\"colab-df-container\">\n",
              "    <button class=\"colab-df-convert\" onclick=\"convertToInteractive('df-bf990937-6fd1-4434-aa61-f01eff9ed884')\"\n",
              "            title=\"Convert this dataframe to an interactive table.\"\n",
              "            style=\"display:none;\">\n",
              "\n",
              "  <svg xmlns=\"http://www.w3.org/2000/svg\" height=\"24px\" viewBox=\"0 -960 960 960\">\n",
              "    <path d=\"M120-120v-720h720v720H120Zm60-500h600v-160H180v160Zm220 220h160v-160H400v160Zm0 220h160v-160H400v160ZM180-400h160v-160H180v160Zm440 0h160v-160H620v160ZM180-180h160v-160H180v160Zm440 0h160v-160H620v160Z\"/>\n",
              "  </svg>\n",
              "    </button>\n",
              "\n",
              "  <style>\n",
              "    .colab-df-container {\n",
              "      display:flex;\n",
              "      gap: 12px;\n",
              "    }\n",
              "\n",
              "    .colab-df-convert {\n",
              "      background-color: #E8F0FE;\n",
              "      border: none;\n",
              "      border-radius: 50%;\n",
              "      cursor: pointer;\n",
              "      display: none;\n",
              "      fill: #1967D2;\n",
              "      height: 32px;\n",
              "      padding: 0 0 0 0;\n",
              "      width: 32px;\n",
              "    }\n",
              "\n",
              "    .colab-df-convert:hover {\n",
              "      background-color: #E2EBFA;\n",
              "      box-shadow: 0px 1px 2px rgba(60, 64, 67, 0.3), 0px 1px 3px 1px rgba(60, 64, 67, 0.15);\n",
              "      fill: #174EA6;\n",
              "    }\n",
              "\n",
              "    .colab-df-buttons div {\n",
              "      margin-bottom: 4px;\n",
              "    }\n",
              "\n",
              "    [theme=dark] .colab-df-convert {\n",
              "      background-color: #3B4455;\n",
              "      fill: #D2E3FC;\n",
              "    }\n",
              "\n",
              "    [theme=dark] .colab-df-convert:hover {\n",
              "      background-color: #434B5C;\n",
              "      box-shadow: 0px 1px 3px 1px rgba(0, 0, 0, 0.15);\n",
              "      filter: drop-shadow(0px 1px 2px rgba(0, 0, 0, 0.3));\n",
              "      fill: #FFFFFF;\n",
              "    }\n",
              "  </style>\n",
              "\n",
              "    <script>\n",
              "      const buttonEl =\n",
              "        document.querySelector('#df-bf990937-6fd1-4434-aa61-f01eff9ed884 button.colab-df-convert');\n",
              "      buttonEl.style.display =\n",
              "        google.colab.kernel.accessAllowed ? 'block' : 'none';\n",
              "\n",
              "      async function convertToInteractive(key) {\n",
              "        const element = document.querySelector('#df-bf990937-6fd1-4434-aa61-f01eff9ed884');\n",
              "        const dataTable =\n",
              "          await google.colab.kernel.invokeFunction('convertToInteractive',\n",
              "                                                    [key], {});\n",
              "        if (!dataTable) return;\n",
              "\n",
              "        const docLinkHtml = 'Like what you see? Visit the ' +\n",
              "          '<a target=\"_blank\" href=https://colab.research.google.com/notebooks/data_table.ipynb>data table notebook</a>'\n",
              "          + ' to learn more about interactive tables.';\n",
              "        element.innerHTML = '';\n",
              "        dataTable['output_type'] = 'display_data';\n",
              "        await google.colab.output.renderOutput(dataTable, element);\n",
              "        const docLink = document.createElement('div');\n",
              "        docLink.innerHTML = docLinkHtml;\n",
              "        element.appendChild(docLink);\n",
              "      }\n",
              "    </script>\n",
              "  </div>\n",
              "\n",
              "\n",
              "<div id=\"df-56fd820e-0969-4c20-ac6e-62ed35d51740\">\n",
              "  <button class=\"colab-df-quickchart\" onclick=\"quickchart('df-56fd820e-0969-4c20-ac6e-62ed35d51740')\"\n",
              "            title=\"Suggest charts\"\n",
              "            style=\"display:none;\">\n",
              "\n",
              "<svg xmlns=\"http://www.w3.org/2000/svg\" height=\"24px\"viewBox=\"0 0 24 24\"\n",
              "     width=\"24px\">\n",
              "    <g>\n",
              "        <path d=\"M19 3H5c-1.1 0-2 .9-2 2v14c0 1.1.9 2 2 2h14c1.1 0 2-.9 2-2V5c0-1.1-.9-2-2-2zM9 17H7v-7h2v7zm4 0h-2V7h2v10zm4 0h-2v-4h2v4z\"/>\n",
              "    </g>\n",
              "</svg>\n",
              "  </button>\n",
              "\n",
              "<style>\n",
              "  .colab-df-quickchart {\n",
              "      --bg-color: #E8F0FE;\n",
              "      --fill-color: #1967D2;\n",
              "      --hover-bg-color: #E2EBFA;\n",
              "      --hover-fill-color: #174EA6;\n",
              "      --disabled-fill-color: #AAA;\n",
              "      --disabled-bg-color: #DDD;\n",
              "  }\n",
              "\n",
              "  [theme=dark] .colab-df-quickchart {\n",
              "      --bg-color: #3B4455;\n",
              "      --fill-color: #D2E3FC;\n",
              "      --hover-bg-color: #434B5C;\n",
              "      --hover-fill-color: #FFFFFF;\n",
              "      --disabled-bg-color: #3B4455;\n",
              "      --disabled-fill-color: #666;\n",
              "  }\n",
              "\n",
              "  .colab-df-quickchart {\n",
              "    background-color: var(--bg-color);\n",
              "    border: none;\n",
              "    border-radius: 50%;\n",
              "    cursor: pointer;\n",
              "    display: none;\n",
              "    fill: var(--fill-color);\n",
              "    height: 32px;\n",
              "    padding: 0;\n",
              "    width: 32px;\n",
              "  }\n",
              "\n",
              "  .colab-df-quickchart:hover {\n",
              "    background-color: var(--hover-bg-color);\n",
              "    box-shadow: 0 1px 2px rgba(60, 64, 67, 0.3), 0 1px 3px 1px rgba(60, 64, 67, 0.15);\n",
              "    fill: var(--button-hover-fill-color);\n",
              "  }\n",
              "\n",
              "  .colab-df-quickchart-complete:disabled,\n",
              "  .colab-df-quickchart-complete:disabled:hover {\n",
              "    background-color: var(--disabled-bg-color);\n",
              "    fill: var(--disabled-fill-color);\n",
              "    box-shadow: none;\n",
              "  }\n",
              "\n",
              "  .colab-df-spinner {\n",
              "    border: 2px solid var(--fill-color);\n",
              "    border-color: transparent;\n",
              "    border-bottom-color: var(--fill-color);\n",
              "    animation:\n",
              "      spin 1s steps(1) infinite;\n",
              "  }\n",
              "\n",
              "  @keyframes spin {\n",
              "    0% {\n",
              "      border-color: transparent;\n",
              "      border-bottom-color: var(--fill-color);\n",
              "      border-left-color: var(--fill-color);\n",
              "    }\n",
              "    20% {\n",
              "      border-color: transparent;\n",
              "      border-left-color: var(--fill-color);\n",
              "      border-top-color: var(--fill-color);\n",
              "    }\n",
              "    30% {\n",
              "      border-color: transparent;\n",
              "      border-left-color: var(--fill-color);\n",
              "      border-top-color: var(--fill-color);\n",
              "      border-right-color: var(--fill-color);\n",
              "    }\n",
              "    40% {\n",
              "      border-color: transparent;\n",
              "      border-right-color: var(--fill-color);\n",
              "      border-top-color: var(--fill-color);\n",
              "    }\n",
              "    60% {\n",
              "      border-color: transparent;\n",
              "      border-right-color: var(--fill-color);\n",
              "    }\n",
              "    80% {\n",
              "      border-color: transparent;\n",
              "      border-right-color: var(--fill-color);\n",
              "      border-bottom-color: var(--fill-color);\n",
              "    }\n",
              "    90% {\n",
              "      border-color: transparent;\n",
              "      border-bottom-color: var(--fill-color);\n",
              "    }\n",
              "  }\n",
              "</style>\n",
              "\n",
              "  <script>\n",
              "    async function quickchart(key) {\n",
              "      const quickchartButtonEl =\n",
              "        document.querySelector('#' + key + ' button');\n",
              "      quickchartButtonEl.disabled = true;  // To prevent multiple clicks.\n",
              "      quickchartButtonEl.classList.add('colab-df-spinner');\n",
              "      try {\n",
              "        const charts = await google.colab.kernel.invokeFunction(\n",
              "            'suggestCharts', [key], {});\n",
              "      } catch (error) {\n",
              "        console.error('Error during call to suggestCharts:', error);\n",
              "      }\n",
              "      quickchartButtonEl.classList.remove('colab-df-spinner');\n",
              "      quickchartButtonEl.classList.add('colab-df-quickchart-complete');\n",
              "    }\n",
              "    (() => {\n",
              "      let quickchartButtonEl =\n",
              "        document.querySelector('#df-56fd820e-0969-4c20-ac6e-62ed35d51740 button');\n",
              "      quickchartButtonEl.style.display =\n",
              "        google.colab.kernel.accessAllowed ? 'block' : 'none';\n",
              "    })();\n",
              "  </script>\n",
              "</div>\n",
              "\n",
              "    </div>\n",
              "  </div>\n"
            ],
            "application/vnd.google.colaboratory.intrinsic+json": {
              "type": "dataframe",
              "variable_name": "diabetes_data",
              "summary": "{\n  \"name\": \"diabetes_data\",\n  \"rows\": 768,\n  \"fields\": [\n    {\n      \"column\": \"Pregnancies\",\n      \"properties\": {\n        \"dtype\": \"number\",\n        \"std\": 3,\n        \"min\": 0,\n        \"max\": 17,\n        \"num_unique_values\": 17,\n        \"samples\": [\n          6,\n          1,\n          3\n        ],\n        \"semantic_type\": \"\",\n        \"description\": \"\"\n      }\n    },\n    {\n      \"column\": \"Glucose\",\n      \"properties\": {\n        \"dtype\": \"number\",\n        \"std\": 30.435948867207657,\n        \"min\": 44.0,\n        \"max\": 199.0,\n        \"num_unique_values\": 136,\n        \"samples\": [\n          151.0,\n          101.0,\n          112.0\n        ],\n        \"semantic_type\": \"\",\n        \"description\": \"\"\n      }\n    },\n    {\n      \"column\": \"BloodPressure\",\n      \"properties\": {\n        \"dtype\": \"number\",\n        \"std\": 12.09634618403794,\n        \"min\": 24.0,\n        \"max\": 122.0,\n        \"num_unique_values\": 47,\n        \"samples\": [\n          86.0,\n          46.0,\n          85.0\n        ],\n        \"semantic_type\": \"\",\n        \"description\": \"\"\n      }\n    },\n    {\n      \"column\": \"SkinThickness\",\n      \"properties\": {\n        \"dtype\": \"number\",\n        \"std\": 8.791221023089706,\n        \"min\": 7.0,\n        \"max\": 99.0,\n        \"num_unique_values\": 50,\n        \"samples\": [\n          36.0,\n          12.0,\n          28.0\n        ],\n        \"semantic_type\": \"\",\n        \"description\": \"\"\n      }\n    },\n    {\n      \"column\": \"Insulin\",\n      \"properties\": {\n        \"dtype\": \"number\",\n        \"std\": 86.383059693181,\n        \"min\": 14.0,\n        \"max\": 846.0,\n        \"num_unique_values\": 185,\n        \"samples\": [\n          70.0,\n          18.0,\n          274.0\n        ],\n        \"semantic_type\": \"\",\n        \"description\": \"\"\n      }\n    },\n    {\n      \"column\": \"BMI\",\n      \"properties\": {\n        \"dtype\": \"number\",\n        \"std\": 6.875176818080995,\n        \"min\": 18.2,\n        \"max\": 67.1,\n        \"num_unique_values\": 247,\n        \"samples\": [\n          19.9,\n          31.0,\n          38.1\n        ],\n        \"semantic_type\": \"\",\n        \"description\": \"\"\n      }\n    },\n    {\n      \"column\": \"DiabetesPedigreeFunction\",\n      \"properties\": {\n        \"dtype\": \"number\",\n        \"std\": 0.3313285950127749,\n        \"min\": 0.078,\n        \"max\": 2.42,\n        \"num_unique_values\": 517,\n        \"samples\": [\n          1.731,\n          0.426,\n          0.138\n        ],\n        \"semantic_type\": \"\",\n        \"description\": \"\"\n      }\n    },\n    {\n      \"column\": \"Age\",\n      \"properties\": {\n        \"dtype\": \"number\",\n        \"std\": 11,\n        \"min\": 21,\n        \"max\": 81,\n        \"num_unique_values\": 52,\n        \"samples\": [\n          60,\n          47,\n          72\n        ],\n        \"semantic_type\": \"\",\n        \"description\": \"\"\n      }\n    },\n    {\n      \"column\": \"Outcome\",\n      \"properties\": {\n        \"dtype\": \"number\",\n        \"std\": 0,\n        \"min\": 0,\n        \"max\": 1,\n        \"num_unique_values\": 2,\n        \"samples\": [\n          0,\n          1\n        ],\n        \"semantic_type\": \"\",\n        \"description\": \"\"\n      }\n    }\n  ]\n}"
            }
          },
          "metadata": {},
          "execution_count": 4
        }
      ]
    },
    {
      "cell_type": "markdown",
      "metadata": {
        "id": "Sp-JWCiPhFs3"
      },
      "source": [
        "## Identification of variables and data types"
      ]
    },
    {
      "cell_type": "code",
      "metadata": {
        "trusted": true,
        "colab": {
          "base_uri": "https://localhost:8080/"
        },
        "id": "Dxb4gUfwhFs3",
        "outputId": "e072d5d4-2923-4f74-9d7a-3ad7e0cc941c"
      },
      "source": [
        "diabetes_data.shape"
      ],
      "execution_count": 5,
      "outputs": [
        {
          "output_type": "execute_result",
          "data": {
            "text/plain": [
              "(768, 9)"
            ]
          },
          "metadata": {},
          "execution_count": 5
        }
      ]
    },
    {
      "cell_type": "markdown",
      "metadata": {
        "id": "5arc6ZbOhFs3"
      },
      "source": [
        "Dataset comprises of 768 observations and 9 fields.\n",
        "\n",
        "The following features have been provided to help us predict whether a person is diabetic or not:\n",
        "\n",
        "* **Pregnancies:** Number of times pregnant\n",
        "* **Glucose:** Plasma glucose concentration over 2 hours in an oral glucose tolerance test. Less than 140 mg/dL is considered normal level of glucose.\n",
        "* **BloodPressure:** Diastolic blood pressure (mm Hg). 120/80 is normal BP level for females above 18 years old.\n",
        "* **SkinThickness:** Triceps skin fold thickness (mm)\n",
        "* **Insulin:** 2-Hour serum insulin (mu U/ml). 16-166 mIU/L is considered the normal level of insulin.\n",
        "* **BMI:** Body mass index (weight in kg/((height in m$)^2$))\n",
        "* **DiabetesPedigreeFunction:** Diabetes pedigree function (a function which scores likelihood of diabetes based on family history)\n",
        "* **Age:** Age (in years)\n",
        "* **Outcome:** Class variable (0 if non-diabetic, 1 if diabetic)\n"
      ]
    },
    {
      "cell_type": "code",
      "metadata": {
        "trusted": true,
        "colab": {
          "base_uri": "https://localhost:8080/",
          "height": 331
        },
        "id": "kKH8cPIBhFs4",
        "outputId": "4f776d45-d346-4b6d-f281-146f62214ae7"
      },
      "source": [
        "# Get the details of each column\n",
        "diabetes_data.describe().T"
      ],
      "execution_count": 6,
      "outputs": [
        {
          "output_type": "execute_result",
          "data": {
            "text/plain": [
              "                          count        mean        std     min        25%  \\\n",
              "Pregnancies               768.0    3.845052   3.369578   0.000    1.00000   \n",
              "Glucose                   768.0  121.686763  30.435949  44.000   99.75000   \n",
              "BloodPressure             768.0   72.405184  12.096346  24.000   64.00000   \n",
              "SkinThickness             768.0   29.108073   8.791221   7.000   25.00000   \n",
              "Insulin                   768.0  140.671875  86.383060  14.000  121.50000   \n",
              "BMI                       768.0   32.455208   6.875177  18.200   27.50000   \n",
              "DiabetesPedigreeFunction  768.0    0.471876   0.331329   0.078    0.24375   \n",
              "Age                       768.0   33.240885  11.760232  21.000   24.00000   \n",
              "Outcome                   768.0    0.348958   0.476951   0.000    0.00000   \n",
              "\n",
              "                                 50%        75%     max  \n",
              "Pregnancies                 3.000000    6.00000   17.00  \n",
              "Glucose                   117.000000  140.25000  199.00  \n",
              "BloodPressure              72.202592   80.00000  122.00  \n",
              "SkinThickness              29.000000   32.00000   99.00  \n",
              "Insulin                   125.000000  127.25000  846.00  \n",
              "BMI                        32.300000   36.60000   67.10  \n",
              "DiabetesPedigreeFunction    0.372500    0.62625    2.42  \n",
              "Age                        29.000000   41.00000   81.00  \n",
              "Outcome                     0.000000    1.00000    1.00  "
            ],
            "text/html": [
              "\n",
              "  <div id=\"df-4db9960c-7a63-40d6-a883-eee0824e24bd\" class=\"colab-df-container\">\n",
              "    <div>\n",
              "<style scoped>\n",
              "    .dataframe tbody tr th:only-of-type {\n",
              "        vertical-align: middle;\n",
              "    }\n",
              "\n",
              "    .dataframe tbody tr th {\n",
              "        vertical-align: top;\n",
              "    }\n",
              "\n",
              "    .dataframe thead th {\n",
              "        text-align: right;\n",
              "    }\n",
              "</style>\n",
              "<table border=\"1\" class=\"dataframe\">\n",
              "  <thead>\n",
              "    <tr style=\"text-align: right;\">\n",
              "      <th></th>\n",
              "      <th>count</th>\n",
              "      <th>mean</th>\n",
              "      <th>std</th>\n",
              "      <th>min</th>\n",
              "      <th>25%</th>\n",
              "      <th>50%</th>\n",
              "      <th>75%</th>\n",
              "      <th>max</th>\n",
              "    </tr>\n",
              "  </thead>\n",
              "  <tbody>\n",
              "    <tr>\n",
              "      <th>Pregnancies</th>\n",
              "      <td>768.0</td>\n",
              "      <td>3.845052</td>\n",
              "      <td>3.369578</td>\n",
              "      <td>0.000</td>\n",
              "      <td>1.00000</td>\n",
              "      <td>3.000000</td>\n",
              "      <td>6.00000</td>\n",
              "      <td>17.00</td>\n",
              "    </tr>\n",
              "    <tr>\n",
              "      <th>Glucose</th>\n",
              "      <td>768.0</td>\n",
              "      <td>121.686763</td>\n",
              "      <td>30.435949</td>\n",
              "      <td>44.000</td>\n",
              "      <td>99.75000</td>\n",
              "      <td>117.000000</td>\n",
              "      <td>140.25000</td>\n",
              "      <td>199.00</td>\n",
              "    </tr>\n",
              "    <tr>\n",
              "      <th>BloodPressure</th>\n",
              "      <td>768.0</td>\n",
              "      <td>72.405184</td>\n",
              "      <td>12.096346</td>\n",
              "      <td>24.000</td>\n",
              "      <td>64.00000</td>\n",
              "      <td>72.202592</td>\n",
              "      <td>80.00000</td>\n",
              "      <td>122.00</td>\n",
              "    </tr>\n",
              "    <tr>\n",
              "      <th>SkinThickness</th>\n",
              "      <td>768.0</td>\n",
              "      <td>29.108073</td>\n",
              "      <td>8.791221</td>\n",
              "      <td>7.000</td>\n",
              "      <td>25.00000</td>\n",
              "      <td>29.000000</td>\n",
              "      <td>32.00000</td>\n",
              "      <td>99.00</td>\n",
              "    </tr>\n",
              "    <tr>\n",
              "      <th>Insulin</th>\n",
              "      <td>768.0</td>\n",
              "      <td>140.671875</td>\n",
              "      <td>86.383060</td>\n",
              "      <td>14.000</td>\n",
              "      <td>121.50000</td>\n",
              "      <td>125.000000</td>\n",
              "      <td>127.25000</td>\n",
              "      <td>846.00</td>\n",
              "    </tr>\n",
              "    <tr>\n",
              "      <th>BMI</th>\n",
              "      <td>768.0</td>\n",
              "      <td>32.455208</td>\n",
              "      <td>6.875177</td>\n",
              "      <td>18.200</td>\n",
              "      <td>27.50000</td>\n",
              "      <td>32.300000</td>\n",
              "      <td>36.60000</td>\n",
              "      <td>67.10</td>\n",
              "    </tr>\n",
              "    <tr>\n",
              "      <th>DiabetesPedigreeFunction</th>\n",
              "      <td>768.0</td>\n",
              "      <td>0.471876</td>\n",
              "      <td>0.331329</td>\n",
              "      <td>0.078</td>\n",
              "      <td>0.24375</td>\n",
              "      <td>0.372500</td>\n",
              "      <td>0.62625</td>\n",
              "      <td>2.42</td>\n",
              "    </tr>\n",
              "    <tr>\n",
              "      <th>Age</th>\n",
              "      <td>768.0</td>\n",
              "      <td>33.240885</td>\n",
              "      <td>11.760232</td>\n",
              "      <td>21.000</td>\n",
              "      <td>24.00000</td>\n",
              "      <td>29.000000</td>\n",
              "      <td>41.00000</td>\n",
              "      <td>81.00</td>\n",
              "    </tr>\n",
              "    <tr>\n",
              "      <th>Outcome</th>\n",
              "      <td>768.0</td>\n",
              "      <td>0.348958</td>\n",
              "      <td>0.476951</td>\n",
              "      <td>0.000</td>\n",
              "      <td>0.00000</td>\n",
              "      <td>0.000000</td>\n",
              "      <td>1.00000</td>\n",
              "      <td>1.00</td>\n",
              "    </tr>\n",
              "  </tbody>\n",
              "</table>\n",
              "</div>\n",
              "    <div class=\"colab-df-buttons\">\n",
              "\n",
              "  <div class=\"colab-df-container\">\n",
              "    <button class=\"colab-df-convert\" onclick=\"convertToInteractive('df-4db9960c-7a63-40d6-a883-eee0824e24bd')\"\n",
              "            title=\"Convert this dataframe to an interactive table.\"\n",
              "            style=\"display:none;\">\n",
              "\n",
              "  <svg xmlns=\"http://www.w3.org/2000/svg\" height=\"24px\" viewBox=\"0 -960 960 960\">\n",
              "    <path d=\"M120-120v-720h720v720H120Zm60-500h600v-160H180v160Zm220 220h160v-160H400v160Zm0 220h160v-160H400v160ZM180-400h160v-160H180v160Zm440 0h160v-160H620v160ZM180-180h160v-160H180v160Zm440 0h160v-160H620v160Z\"/>\n",
              "  </svg>\n",
              "    </button>\n",
              "\n",
              "  <style>\n",
              "    .colab-df-container {\n",
              "      display:flex;\n",
              "      gap: 12px;\n",
              "    }\n",
              "\n",
              "    .colab-df-convert {\n",
              "      background-color: #E8F0FE;\n",
              "      border: none;\n",
              "      border-radius: 50%;\n",
              "      cursor: pointer;\n",
              "      display: none;\n",
              "      fill: #1967D2;\n",
              "      height: 32px;\n",
              "      padding: 0 0 0 0;\n",
              "      width: 32px;\n",
              "    }\n",
              "\n",
              "    .colab-df-convert:hover {\n",
              "      background-color: #E2EBFA;\n",
              "      box-shadow: 0px 1px 2px rgba(60, 64, 67, 0.3), 0px 1px 3px 1px rgba(60, 64, 67, 0.15);\n",
              "      fill: #174EA6;\n",
              "    }\n",
              "\n",
              "    .colab-df-buttons div {\n",
              "      margin-bottom: 4px;\n",
              "    }\n",
              "\n",
              "    [theme=dark] .colab-df-convert {\n",
              "      background-color: #3B4455;\n",
              "      fill: #D2E3FC;\n",
              "    }\n",
              "\n",
              "    [theme=dark] .colab-df-convert:hover {\n",
              "      background-color: #434B5C;\n",
              "      box-shadow: 0px 1px 3px 1px rgba(0, 0, 0, 0.15);\n",
              "      filter: drop-shadow(0px 1px 2px rgba(0, 0, 0, 0.3));\n",
              "      fill: #FFFFFF;\n",
              "    }\n",
              "  </style>\n",
              "\n",
              "    <script>\n",
              "      const buttonEl =\n",
              "        document.querySelector('#df-4db9960c-7a63-40d6-a883-eee0824e24bd button.colab-df-convert');\n",
              "      buttonEl.style.display =\n",
              "        google.colab.kernel.accessAllowed ? 'block' : 'none';\n",
              "\n",
              "      async function convertToInteractive(key) {\n",
              "        const element = document.querySelector('#df-4db9960c-7a63-40d6-a883-eee0824e24bd');\n",
              "        const dataTable =\n",
              "          await google.colab.kernel.invokeFunction('convertToInteractive',\n",
              "                                                    [key], {});\n",
              "        if (!dataTable) return;\n",
              "\n",
              "        const docLinkHtml = 'Like what you see? Visit the ' +\n",
              "          '<a target=\"_blank\" href=https://colab.research.google.com/notebooks/data_table.ipynb>data table notebook</a>'\n",
              "          + ' to learn more about interactive tables.';\n",
              "        element.innerHTML = '';\n",
              "        dataTable['output_type'] = 'display_data';\n",
              "        await google.colab.output.renderOutput(dataTable, element);\n",
              "        const docLink = document.createElement('div');\n",
              "        docLink.innerHTML = docLinkHtml;\n",
              "        element.appendChild(docLink);\n",
              "      }\n",
              "    </script>\n",
              "  </div>\n",
              "\n",
              "\n",
              "<div id=\"df-3b51e95a-05da-4ea0-9d8a-5afd730fc3b5\">\n",
              "  <button class=\"colab-df-quickchart\" onclick=\"quickchart('df-3b51e95a-05da-4ea0-9d8a-5afd730fc3b5')\"\n",
              "            title=\"Suggest charts\"\n",
              "            style=\"display:none;\">\n",
              "\n",
              "<svg xmlns=\"http://www.w3.org/2000/svg\" height=\"24px\"viewBox=\"0 0 24 24\"\n",
              "     width=\"24px\">\n",
              "    <g>\n",
              "        <path d=\"M19 3H5c-1.1 0-2 .9-2 2v14c0 1.1.9 2 2 2h14c1.1 0 2-.9 2-2V5c0-1.1-.9-2-2-2zM9 17H7v-7h2v7zm4 0h-2V7h2v10zm4 0h-2v-4h2v4z\"/>\n",
              "    </g>\n",
              "</svg>\n",
              "  </button>\n",
              "\n",
              "<style>\n",
              "  .colab-df-quickchart {\n",
              "      --bg-color: #E8F0FE;\n",
              "      --fill-color: #1967D2;\n",
              "      --hover-bg-color: #E2EBFA;\n",
              "      --hover-fill-color: #174EA6;\n",
              "      --disabled-fill-color: #AAA;\n",
              "      --disabled-bg-color: #DDD;\n",
              "  }\n",
              "\n",
              "  [theme=dark] .colab-df-quickchart {\n",
              "      --bg-color: #3B4455;\n",
              "      --fill-color: #D2E3FC;\n",
              "      --hover-bg-color: #434B5C;\n",
              "      --hover-fill-color: #FFFFFF;\n",
              "      --disabled-bg-color: #3B4455;\n",
              "      --disabled-fill-color: #666;\n",
              "  }\n",
              "\n",
              "  .colab-df-quickchart {\n",
              "    background-color: var(--bg-color);\n",
              "    border: none;\n",
              "    border-radius: 50%;\n",
              "    cursor: pointer;\n",
              "    display: none;\n",
              "    fill: var(--fill-color);\n",
              "    height: 32px;\n",
              "    padding: 0;\n",
              "    width: 32px;\n",
              "  }\n",
              "\n",
              "  .colab-df-quickchart:hover {\n",
              "    background-color: var(--hover-bg-color);\n",
              "    box-shadow: 0 1px 2px rgba(60, 64, 67, 0.3), 0 1px 3px 1px rgba(60, 64, 67, 0.15);\n",
              "    fill: var(--button-hover-fill-color);\n",
              "  }\n",
              "\n",
              "  .colab-df-quickchart-complete:disabled,\n",
              "  .colab-df-quickchart-complete:disabled:hover {\n",
              "    background-color: var(--disabled-bg-color);\n",
              "    fill: var(--disabled-fill-color);\n",
              "    box-shadow: none;\n",
              "  }\n",
              "\n",
              "  .colab-df-spinner {\n",
              "    border: 2px solid var(--fill-color);\n",
              "    border-color: transparent;\n",
              "    border-bottom-color: var(--fill-color);\n",
              "    animation:\n",
              "      spin 1s steps(1) infinite;\n",
              "  }\n",
              "\n",
              "  @keyframes spin {\n",
              "    0% {\n",
              "      border-color: transparent;\n",
              "      border-bottom-color: var(--fill-color);\n",
              "      border-left-color: var(--fill-color);\n",
              "    }\n",
              "    20% {\n",
              "      border-color: transparent;\n",
              "      border-left-color: var(--fill-color);\n",
              "      border-top-color: var(--fill-color);\n",
              "    }\n",
              "    30% {\n",
              "      border-color: transparent;\n",
              "      border-left-color: var(--fill-color);\n",
              "      border-top-color: var(--fill-color);\n",
              "      border-right-color: var(--fill-color);\n",
              "    }\n",
              "    40% {\n",
              "      border-color: transparent;\n",
              "      border-right-color: var(--fill-color);\n",
              "      border-top-color: var(--fill-color);\n",
              "    }\n",
              "    60% {\n",
              "      border-color: transparent;\n",
              "      border-right-color: var(--fill-color);\n",
              "    }\n",
              "    80% {\n",
              "      border-color: transparent;\n",
              "      border-right-color: var(--fill-color);\n",
              "      border-bottom-color: var(--fill-color);\n",
              "    }\n",
              "    90% {\n",
              "      border-color: transparent;\n",
              "      border-bottom-color: var(--fill-color);\n",
              "    }\n",
              "  }\n",
              "</style>\n",
              "\n",
              "  <script>\n",
              "    async function quickchart(key) {\n",
              "      const quickchartButtonEl =\n",
              "        document.querySelector('#' + key + ' button');\n",
              "      quickchartButtonEl.disabled = true;  // To prevent multiple clicks.\n",
              "      quickchartButtonEl.classList.add('colab-df-spinner');\n",
              "      try {\n",
              "        const charts = await google.colab.kernel.invokeFunction(\n",
              "            'suggestCharts', [key], {});\n",
              "      } catch (error) {\n",
              "        console.error('Error during call to suggestCharts:', error);\n",
              "      }\n",
              "      quickchartButtonEl.classList.remove('colab-df-spinner');\n",
              "      quickchartButtonEl.classList.add('colab-df-quickchart-complete');\n",
              "    }\n",
              "    (() => {\n",
              "      let quickchartButtonEl =\n",
              "        document.querySelector('#df-3b51e95a-05da-4ea0-9d8a-5afd730fc3b5 button');\n",
              "      quickchartButtonEl.style.display =\n",
              "        google.colab.kernel.accessAllowed ? 'block' : 'none';\n",
              "    })();\n",
              "  </script>\n",
              "</div>\n",
              "\n",
              "    </div>\n",
              "  </div>\n"
            ],
            "application/vnd.google.colaboratory.intrinsic+json": {
              "type": "dataframe",
              "summary": "{\n  \"name\": \"diabetes_data\",\n  \"rows\": 9,\n  \"fields\": [\n    {\n      \"column\": \"count\",\n      \"properties\": {\n        \"dtype\": \"number\",\n        \"std\": 0.0,\n        \"min\": 768.0,\n        \"max\": 768.0,\n        \"num_unique_values\": 1,\n        \"samples\": [\n          768.0\n        ],\n        \"semantic_type\": \"\",\n        \"description\": \"\"\n      }\n    },\n    {\n      \"column\": \"mean\",\n      \"properties\": {\n        \"dtype\": \"number\",\n        \"std\": 52.33122231598759,\n        \"min\": 0.3489583333333333,\n        \"max\": 140.671875,\n        \"num_unique_values\": 9,\n        \"samples\": [\n          33.240885416666664\n        ],\n        \"semantic_type\": \"\",\n        \"description\": \"\"\n      }\n    },\n    {\n      \"column\": \"std\",\n      \"properties\": {\n        \"dtype\": \"number\",\n        \"std\": 27.26328074474117,\n        \"min\": 0.3313285950127749,\n        \"max\": 86.383059693181,\n        \"num_unique_values\": 9,\n        \"samples\": [\n          11.760231540678685\n        ],\n        \"semantic_type\": \"\",\n        \"description\": \"\"\n      }\n    },\n    {\n      \"column\": \"min\",\n      \"properties\": {\n        \"dtype\": \"number\",\n        \"std\": 14.581175779446289,\n        \"min\": 0.0,\n        \"max\": 44.0,\n        \"num_unique_values\": 8,\n        \"samples\": [\n          44.0\n        ],\n        \"semantic_type\": \"\",\n        \"description\": \"\"\n      }\n    },\n    {\n      \"column\": \"25%\",\n      \"properties\": {\n        \"dtype\": \"number\",\n        \"std\": 44.89728009076509,\n        \"min\": 0.0,\n        \"max\": 121.5,\n        \"num_unique_values\": 9,\n        \"samples\": [\n          24.0\n        ],\n        \"semantic_type\": \"\",\n        \"description\": \"\"\n      }\n    },\n    {\n      \"column\": \"50%\",\n      \"properties\": {\n        \"dtype\": \"number\",\n        \"std\": 48.44709267709781,\n        \"min\": 0.0,\n        \"max\": 125.0,\n        \"num_unique_values\": 8,\n        \"samples\": [\n          117.0\n        ],\n        \"semantic_type\": \"\",\n        \"description\": \"\"\n      }\n    },\n    {\n      \"column\": \"75%\",\n      \"properties\": {\n        \"dtype\": \"number\",\n        \"std\": 52.85340145451851,\n        \"min\": 0.62625,\n        \"max\": 140.25,\n        \"num_unique_values\": 9,\n        \"samples\": [\n          41.0\n        ],\n        \"semantic_type\": \"\",\n        \"description\": \"\"\n      }\n    },\n    {\n      \"column\": \"max\",\n      \"properties\": {\n        \"dtype\": \"number\",\n        \"std\": 265.214896284336,\n        \"min\": 1.0,\n        \"max\": 846.0,\n        \"num_unique_values\": 9,\n        \"samples\": [\n          81.0\n        ],\n        \"semantic_type\": \"\",\n        \"description\": \"\"\n      }\n    }\n  ]\n}"
            }
          },
          "metadata": {},
          "execution_count": 6
        }
      ]
    },
    {
      "cell_type": "markdown",
      "metadata": {
        "id": "6v_JcMPYhFs6"
      },
      "source": [
        "Let us see distribution and also boxplot for outliers of feature \"Pregnancies\"."
      ]
    },
    {
      "cell_type": "code",
      "metadata": {
        "trusted": true,
        "colab": {
          "base_uri": "https://localhost:8080/",
          "height": 607
        },
        "id": "jh9KHJcEhFs6",
        "outputId": "57dc7350-9999-44e5-aa5a-463175d251cf"
      },
      "source": [
        "fig,axes = plt.subplots(nrows=1,ncols=2,figsize = (8,6))\n",
        "\n",
        "plot00=sns.distplot(diabetes_data['Pregnancies'],ax=axes[0],color='b')\n",
        "axes[0].set_title('Distribution of Pregnancy',fontdict={'fontsize':8})\n",
        "axes[0].set_xlabel('No of Pregnancies')\n",
        "axes[0].set_ylabel('Frequency')\n",
        "plt.tight_layout()\n",
        "\n",
        "\n",
        "plot01=sns.boxplot(data=diabetes_data['Pregnancies'], ax=axes[1],orient = 'v', color='r')\n",
        "plt.tight_layout()"
      ],
      "execution_count": 7,
      "outputs": [
        {
          "output_type": "display_data",
          "data": {
            "text/plain": [
              "<Figure size 800x600 with 2 Axes>"
            ],
            "image/png": "[encoded data removed]"
          },
          "metadata": {}
        }
      ]
    },
    {
      "cell_type": "code",
      "metadata": {
        "id": "UZISBYEz7jwv"
      },
      "source": [
        "## TASK-1 :\n",
        "## Find out the \"Correlation\" between the different attributes present in the data.\n",
        "## Also plot a heatmap (refer Seaborn documentation) for the correlation values obtained."
      ],
      "execution_count": 8,
      "outputs": []
    },
    {
      "cell_type": "markdown",
      "source": [
        "This code calculates the correlation matrix using the corr() method in pandas and then prints the matrix. Additionally, it creates a heatmap using seaborn to visually represent the correlation between different features, with annotated values for better interpretation.And it uses seaborn (sns) to create a heatmap with the correlation values. The annot=True parameter displays the actual values in the cells, and the cmap='coolwarm' parameter sets the color map for the heatmap."
      ],
      "metadata": {
        "id": "FzM_-5fIvM5P"
      }
    },
    {
      "cell_type": "code",
      "source": [
        "# Calculate the correlation matrix\n",
        "correlation_matrix = diabetes_data.corr()\n",
        "\n",
        "# Display the correlation matrix\n",
        "print(\"Correlation Matrix:\")\n",
        "print(correlation_matrix)\n",
        "\n",
        "# Plot a heatmap using seaborn\n",
        "plt.figure(figsize=(12, 10))\n",
        "sns.heatmap(correlation_matrix, annot=True, cmap='coolwarm', fmt=\".2f\", linewidths=.5)\n",
        "plt.title(\"Correlation Heatmap\")\n",
        "plt.show()"
      ],
      "metadata": {
        "id": "m6xd-dyNvO9X",
        "outputId": "de29c610-ff2b-45c8-b70a-6cb1f29759ae",
        "colab": {
          "base_uri": "https://localhost:8080/",
          "height": 1000
        }
      },
      "execution_count": 9,
      "outputs": [
        {
          "output_type": "stream",
          "name": "stdout",
          "text": [
            "Correlation Matrix:\n",
            "                          Pregnancies   Glucose  BloodPressure  SkinThickness  \\\n",
            "Pregnancies                  1.000000  0.127911       0.208522       0.081770   \n",
            "Glucose                      0.127911  1.000000       0.218367       0.192686   \n",
            "BloodPressure                0.208522  0.218367       1.000000       0.191853   \n",
            "SkinThickness                0.081770  0.192686       0.191853       1.000000   \n",
            "Insulin                      0.025047  0.419064       0.045087       0.155610   \n",
            "BMI                          0.021559  0.231128       0.281199       0.543205   \n",
            "DiabetesPedigreeFunction    -0.033523  0.137060      -0.002763       0.102188   \n",
            "Age                          0.544341  0.266534       0.324595       0.126107   \n",
            "Outcome                      0.221898  0.492928       0.166074       0.214873   \n",
            "\n",
            "                           Insulin       BMI  DiabetesPedigreeFunction  \\\n",
            "Pregnancies               0.025047  0.021559                 -0.033523   \n",
            "Glucose                   0.419064  0.231128                  0.137060   \n",
            "BloodPressure             0.045087  0.281199                 -0.002763   \n",
            "SkinThickness             0.155610  0.543205                  0.102188   \n",
            "Insulin                   1.000000  0.180241                  0.126503   \n",
            "BMI                       0.180241  1.000000                  0.153438   \n",
            "DiabetesPedigreeFunction  0.126503  0.153438                  1.000000   \n",
            "Age                       0.097101  0.025597                  0.033561   \n",
            "Outcome                   0.203790  0.312038                  0.173844   \n",
            "\n",
            "                               Age   Outcome  \n",
            "Pregnancies               0.544341  0.221898  \n",
            "Glucose                   0.266534  0.492928  \n",
            "BloodPressure             0.324595  0.166074  \n",
            "SkinThickness             0.126107  0.214873  \n",
            "Insulin                   0.097101  0.203790  \n",
            "BMI                       0.025597  0.312038  \n",
            "DiabetesPedigreeFunction  0.033561  0.173844  \n",
            "Age                       1.000000  0.238356  \n",
            "Outcome                   0.238356  1.000000  \n"
          ]
        },
        {
          "output_type": "display_data",
          "data": {
            "text/plain": [
              "<Figure size 1200x1000 with 2 Axes>"
            ],
            "image/png": "[encoded data removed]"
          },
          "metadata": {}
        }
      ]
    },
    {
      "cell_type": "code",
      "source": [
        "diabetes_data.corr()"
      ],
      "metadata": {
        "colab": {
          "base_uri": "https://localhost:8080/",
          "height": 331
        },
        "id": "deFQgd6ZZxdd",
        "outputId": "fb200888-bb41-41d9-ddf3-c8a4271363ec"
      },
      "execution_count": 10,
      "outputs": [
        {
          "output_type": "execute_result",
          "data": {
            "text/plain": [
              "                          Pregnancies   Glucose  BloodPressure  SkinThickness  \\\n",
              "Pregnancies                  1.000000  0.127911       0.208522       0.081770   \n",
              "Glucose                      0.127911  1.000000       0.218367       0.192686   \n",
              "BloodPressure                0.208522  0.218367       1.000000       0.191853   \n",
              "SkinThickness                0.081770  0.192686       0.191853       1.000000   \n",
              "Insulin                      0.025047  0.419064       0.045087       0.155610   \n",
              "BMI                          0.021559  0.231128       0.281199       0.543205   \n",
              "DiabetesPedigreeFunction    -0.033523  0.137060      -0.002763       0.102188   \n",
              "Age                          0.544341  0.266534       0.324595       0.126107   \n",
              "Outcome                      0.221898  0.492928       0.166074       0.214873   \n",
              "\n",
              "                           Insulin       BMI  DiabetesPedigreeFunction  \\\n",
              "Pregnancies               0.025047  0.021559                 -0.033523   \n",
              "Glucose                   0.419064  0.231128                  0.137060   \n",
              "BloodPressure             0.045087  0.281199                 -0.002763   \n",
              "SkinThickness             0.155610  0.543205                  0.102188   \n",
              "Insulin                   1.000000  0.180241                  0.126503   \n",
              "BMI                       0.180241  1.000000                  0.153438   \n",
              "DiabetesPedigreeFunction  0.126503  0.153438                  1.000000   \n",
              "Age                       0.097101  0.025597                  0.033561   \n",
              "Outcome                   0.203790  0.312038                  0.173844   \n",
              "\n",
              "                               Age   Outcome  \n",
              "Pregnancies               0.544341  0.221898  \n",
              "Glucose                   0.266534  0.492928  \n",
              "BloodPressure             0.324595  0.166074  \n",
              "SkinThickness             0.126107  0.214873  \n",
              "Insulin                   0.097101  0.203790  \n",
              "BMI                       0.025597  0.312038  \n",
              "DiabetesPedigreeFunction  0.033561  0.173844  \n",
              "Age                       1.000000  0.238356  \n",
              "Outcome                   0.238356  1.000000  "
            ],
            "text/html": [
              "\n",
              "  <div id=\"df-45aee2f3-8456-4bf2-b76b-7a8c32817903\" class=\"colab-df-container\">\n",
              "    <div>\n",
              "<style scoped>\n",
              "    .dataframe tbody tr th:only-of-type {\n",
              "        vertical-align: middle;\n",
              "    }\n",
              "\n",
              "    .dataframe tbody tr th {\n",
              "        vertical-align: top;\n",
              "    }\n",
              "\n",
              "    .dataframe thead th {\n",
              "        text-align: right;\n",
              "    }\n",
              "</style>\n",
              "<table border=\"1\" class=\"dataframe\">\n",
              "  <thead>\n",
              "    <tr style=\"text-align: right;\">\n",
              "      <th></th>\n",
              "      <th>Pregnancies</th>\n",
              "      <th>Glucose</th>\n",
              "      <th>BloodPressure</th>\n",
              "      <th>SkinThickness</th>\n",
              "      <th>Insulin</th>\n",
              "      <th>BMI</th>\n",
              "      <th>DiabetesPedigreeFunction</th>\n",
              "      <th>Age</th>\n",
              "      <th>Outcome</th>\n",
              "    </tr>\n",
              "  </thead>\n",
              "  <tbody>\n",
              "    <tr>\n",
              "      <th>Pregnancies</th>\n",
              "      <td>1.000000</td>\n",
              "      <td>0.127911</td>\n",
              "      <td>0.208522</td>\n",
              "      <td>0.081770</td>\n",
              "      <td>0.025047</td>\n",
              "      <td>0.021559</td>\n",
              "      <td>-0.033523</td>\n",
              "      <td>0.544341</td>\n",
              "      <td>0.221898</td>\n",
              "    </tr>\n",
              "    <tr>\n",
              "      <th>Glucose</th>\n",
              "      <td>0.127911</td>\n",
              "      <td>1.000000</td>\n",
              "      <td>0.218367</td>\n",
              "      <td>0.192686</td>\n",
              "      <td>0.419064</td>\n",
              "      <td>0.231128</td>\n",
              "      <td>0.137060</td>\n",
              "      <td>0.266534</td>\n",
              "      <td>0.492928</td>\n",
              "    </tr>\n",
              "    <tr>\n",
              "      <th>BloodPressure</th>\n",
              "      <td>0.208522</td>\n",
              "      <td>0.218367</td>\n",
              "      <td>1.000000</td>\n",
              "      <td>0.191853</td>\n",
              "      <td>0.045087</td>\n",
              "      <td>0.281199</td>\n",
              "      <td>-0.002763</td>\n",
              "      <td>0.324595</td>\n",
              "      <td>0.166074</td>\n",
              "    </tr>\n",
              "    <tr>\n",
              "      <th>SkinThickness</th>\n",
              "      <td>0.081770</td>\n",
              "      <td>0.192686</td>\n",
              "      <td>0.191853</td>\n",
              "      <td>1.000000</td>\n",
              "      <td>0.155610</td>\n",
              "      <td>0.543205</td>\n",
              "      <td>0.102188</td>\n",
              "      <td>0.126107</td>\n",
              "      <td>0.214873</td>\n",
              "    </tr>\n",
              "    <tr>\n",
              "      <th>Insulin</th>\n",
              "      <td>0.025047</td>\n",
              "      <td>0.419064</td>\n",
              "      <td>0.045087</td>\n",
              "      <td>0.155610</td>\n",
              "      <td>1.000000</td>\n",
              "      <td>0.180241</td>\n",
              "      <td>0.126503</td>\n",
              "      <td>0.097101</td>\n",
              "      <td>0.203790</td>\n",
              "    </tr>\n",
              "    <tr>\n",
              "      <th>BMI</th>\n",
              "      <td>0.021559</td>\n",
              "      <td>0.231128</td>\n",
              "      <td>0.281199</td>\n",
              "      <td>0.543205</td>\n",
              "      <td>0.180241</td>\n",
              "      <td>1.000000</td>\n",
              "      <td>0.153438</td>\n",
              "      <td>0.025597</td>\n",
              "      <td>0.312038</td>\n",
              "    </tr>\n",
              "    <tr>\n",
              "      <th>DiabetesPedigreeFunction</th>\n",
              "      <td>-0.033523</td>\n",
              "      <td>0.137060</td>\n",
              "      <td>-0.002763</td>\n",
              "      <td>0.102188</td>\n",
              "      <td>0.126503</td>\n",
              "      <td>0.153438</td>\n",
              "      <td>1.000000</td>\n",
              "      <td>0.033561</td>\n",
              "      <td>0.173844</td>\n",
              "    </tr>\n",
              "    <tr>\n",
              "      <th>Age</th>\n",
              "      <td>0.544341</td>\n",
              "      <td>0.266534</td>\n",
              "      <td>0.324595</td>\n",
              "      <td>0.126107</td>\n",
              "      <td>0.097101</td>\n",
              "      <td>0.025597</td>\n",
              "      <td>0.033561</td>\n",
              "      <td>1.000000</td>\n",
              "      <td>0.238356</td>\n",
              "    </tr>\n",
              "    <tr>\n",
              "      <th>Outcome</th>\n",
              "      <td>0.221898</td>\n",
              "      <td>0.492928</td>\n",
              "      <td>0.166074</td>\n",
              "      <td>0.214873</td>\n",
              "      <td>0.203790</td>\n",
              "      <td>0.312038</td>\n",
              "      <td>0.173844</td>\n",
              "      <td>0.238356</td>\n",
              "      <td>1.000000</td>\n",
              "    </tr>\n",
              "  </tbody>\n",
              "</table>\n",
              "</div>\n",
              "    <div class=\"colab-df-buttons\">\n",
              "\n",
              "  <div class=\"colab-df-container\">\n",
              "    <button class=\"colab-df-convert\" onclick=\"convertToInteractive('df-45aee2f3-8456-4bf2-b76b-7a8c32817903')\"\n",
              "            title=\"Convert this dataframe to an interactive table.\"\n",
              "            style=\"display:none;\">\n",
              "\n",
              "  <svg xmlns=\"http://www.w3.org/2000/svg\" height=\"24px\" viewBox=\"0 -960 960 960\">\n",
              "    <path d=\"M120-120v-720h720v720H120Zm60-500h600v-160H180v160Zm220 220h160v-160H400v160Zm0 220h160v-160H400v160ZM180-400h160v-160H180v160Zm440 0h160v-160H620v160ZM180-180h160v-160H180v160Zm440 0h160v-160H620v160Z\"/>\n",
              "  </svg>\n",
              "    </button>\n",
              "\n",
              "  <style>\n",
              "    .colab-df-container {\n",
              "      display:flex;\n",
              "      gap: 12px;\n",
              "    }\n",
              "\n",
              "    .colab-df-convert {\n",
              "      background-color: #E8F0FE;\n",
              "      border: none;\n",
              "      border-radius: 50%;\n",
              "      cursor: pointer;\n",
              "      display: none;\n",
              "      fill: #1967D2;\n",
              "      height: 32px;\n",
              "      padding: 0 0 0 0;\n",
              "      width: 32px;\n",
              "    }\n",
              "\n",
              "    .colab-df-convert:hover {\n",
              "      background-color: #E2EBFA;\n",
              "      box-shadow: 0px 1px 2px rgba(60, 64, 67, 0.3), 0px 1px 3px 1px rgba(60, 64, 67, 0.15);\n",
              "      fill: #174EA6;\n",
              "    }\n",
              "\n",
              "    .colab-df-buttons div {\n",
              "      margin-bottom: 4px;\n",
              "    }\n",
              "\n",
              "    [theme=dark] .colab-df-convert {\n",
              "      background-color: #3B4455;\n",
              "      fill: #D2E3FC;\n",
              "    }\n",
              "\n",
              "    [theme=dark] .colab-df-convert:hover {\n",
              "      background-color: #434B5C;\n",
              "      box-shadow: 0px 1px 3px 1px rgba(0, 0, 0, 0.15);\n",
              "      filter: drop-shadow(0px 1px 2px rgba(0, 0, 0, 0.3));\n",
              "      fill: #FFFFFF;\n",
              "    }\n",
              "  </style>\n",
              "\n",
              "    <script>\n",
              "      const buttonEl =\n",
              "        document.querySelector('#df-45aee2f3-8456-4bf2-b76b-7a8c32817903 button.colab-df-convert');\n",
              "      buttonEl.style.display =\n",
              "        google.colab.kernel.accessAllowed ? 'block' : 'none';\n",
              "\n",
              "      async function convertToInteractive(key) {\n",
              "        const element = document.querySelector('#df-45aee2f3-8456-4bf2-b76b-7a8c32817903');\n",
              "        const dataTable =\n",
              "          await google.colab.kernel.invokeFunction('convertToInteractive',\n",
              "                                                    [key], {});\n",
              "        if (!dataTable) return;\n",
              "\n",
              "        const docLinkHtml = 'Like what you see? Visit the ' +\n",
              "          '<a target=\"_blank\" href=https://colab.research.google.com/notebooks/data_table.ipynb>data table notebook</a>'\n",
              "          + ' to learn more about interactive tables.';\n",
              "        element.innerHTML = '';\n",
              "        dataTable['output_type'] = 'display_data';\n",
              "        await google.colab.output.renderOutput(dataTable, element);\n",
              "        const docLink = document.createElement('div');\n",
              "        docLink.innerHTML = docLinkHtml;\n",
              "        element.appendChild(docLink);\n",
              "      }\n",
              "    </script>\n",
              "  </div>\n",
              "\n",
              "\n",
              "<div id=\"df-414b665e-1b65-468f-87ed-b96822a77d82\">\n",
              "  <button class=\"colab-df-quickchart\" onclick=\"quickchart('df-414b665e-1b65-468f-87ed-b96822a77d82')\"\n",
              "            title=\"Suggest charts\"\n",
              "            style=\"display:none;\">\n",
              "\n",
              "<svg xmlns=\"http://www.w3.org/2000/svg\" height=\"24px\"viewBox=\"0 0 24 24\"\n",
              "     width=\"24px\">\n",
              "    <g>\n",
              "        <path d=\"M19 3H5c-1.1 0-2 .9-2 2v14c0 1.1.9 2 2 2h14c1.1 0 2-.9 2-2V5c0-1.1-.9-2-2-2zM9 17H7v-7h2v7zm4 0h-2V7h2v10zm4 0h-2v-4h2v4z\"/>\n",
              "    </g>\n",
              "</svg>\n",
              "  </button>\n",
              "\n",
              "<style>\n",
              "  .colab-df-quickchart {\n",
              "      --bg-color: #E8F0FE;\n",
              "      --fill-color: #1967D2;\n",
              "      --hover-bg-color: #E2EBFA;\n",
              "      --hover-fill-color: #174EA6;\n",
              "      --disabled-fill-color: #AAA;\n",
              "      --disabled-bg-color: #DDD;\n",
              "  }\n",
              "\n",
              "  [theme=dark] .colab-df-quickchart {\n",
              "      --bg-color: #3B4455;\n",
              "      --fill-color: #D2E3FC;\n",
              "      --hover-bg-color: #434B5C;\n",
              "      --hover-fill-color: #FFFFFF;\n",
              "      --disabled-bg-color: #3B4455;\n",
              "      --disabled-fill-color: #666;\n",
              "  }\n",
              "\n",
              "  .colab-df-quickchart {\n",
              "    background-color: var(--bg-color);\n",
              "    border: none;\n",
              "    border-radius: 50%;\n",
              "    cursor: pointer;\n",
              "    display: none;\n",
              "    fill: var(--fill-color);\n",
              "    height: 32px;\n",
              "    padding: 0;\n",
              "    width: 32px;\n",
              "  }\n",
              "\n",
              "  .colab-df-quickchart:hover {\n",
              "    background-color: var(--hover-bg-color);\n",
              "    box-shadow: 0 1px 2px rgba(60, 64, 67, 0.3), 0 1px 3px 1px rgba(60, 64, 67, 0.15);\n",
              "    fill: var(--button-hover-fill-color);\n",
              "  }\n",
              "\n",
              "  .colab-df-quickchart-complete:disabled,\n",
              "  .colab-df-quickchart-complete:disabled:hover {\n",
              "    background-color: var(--disabled-bg-color);\n",
              "    fill: var(--disabled-fill-color);\n",
              "    box-shadow: none;\n",
              "  }\n",
              "\n",
              "  .colab-df-spinner {\n",
              "    border: 2px solid var(--fill-color);\n",
              "    border-color: transparent;\n",
              "    border-bottom-color: var(--fill-color);\n",
              "    animation:\n",
              "      spin 1s steps(1) infinite;\n",
              "  }\n",
              "\n",
              "  @keyframes spin {\n",
              "    0% {\n",
              "      border-color: transparent;\n",
              "      border-bottom-color: var(--fill-color);\n",
              "      border-left-color: var(--fill-color);\n",
              "    }\n",
              "    20% {\n",
              "      border-color: transparent;\n",
              "      border-left-color: var(--fill-color);\n",
              "      border-top-color: var(--fill-color);\n",
              "    }\n",
              "    30% {\n",
              "      border-color: transparent;\n",
              "      border-left-color: var(--fill-color);\n",
              "      border-top-color: var(--fill-color);\n",
              "      border-right-color: var(--fill-color);\n",
              "    }\n",
              "    40% {\n",
              "      border-color: transparent;\n",
              "      border-right-color: var(--fill-color);\n",
              "      border-top-color: var(--fill-color);\n",
              "    }\n",
              "    60% {\n",
              "      border-color: transparent;\n",
              "      border-right-color: var(--fill-color);\n",
              "    }\n",
              "    80% {\n",
              "      border-color: transparent;\n",
              "      border-right-color: var(--fill-color);\n",
              "      border-bottom-color: var(--fill-color);\n",
              "    }\n",
              "    90% {\n",
              "      border-color: transparent;\n",
              "      border-bottom-color: var(--fill-color);\n",
              "    }\n",
              "  }\n",
              "</style>\n",
              "\n",
              "  <script>\n",
              "    async function quickchart(key) {\n",
              "      const quickchartButtonEl =\n",
              "        document.querySelector('#' + key + ' button');\n",
              "      quickchartButtonEl.disabled = true;  // To prevent multiple clicks.\n",
              "      quickchartButtonEl.classList.add('colab-df-spinner');\n",
              "      try {\n",
              "        const charts = await google.colab.kernel.invokeFunction(\n",
              "            'suggestCharts', [key], {});\n",
              "      } catch (error) {\n",
              "        console.error('Error during call to suggestCharts:', error);\n",
              "      }\n",
              "      quickchartButtonEl.classList.remove('colab-df-spinner');\n",
              "      quickchartButtonEl.classList.add('colab-df-quickchart-complete');\n",
              "    }\n",
              "    (() => {\n",
              "      let quickchartButtonEl =\n",
              "        document.querySelector('#df-414b665e-1b65-468f-87ed-b96822a77d82 button');\n",
              "      quickchartButtonEl.style.display =\n",
              "        google.colab.kernel.accessAllowed ? 'block' : 'none';\n",
              "    })();\n",
              "  </script>\n",
              "</div>\n",
              "\n",
              "    </div>\n",
              "  </div>\n"
            ],
            "application/vnd.google.colaboratory.intrinsic+json": {
              "type": "dataframe",
              "summary": "{\n  \"name\": \"diabetes_data\",\n  \"rows\": 9,\n  \"fields\": [\n    {\n      \"column\": \"Pregnancies\",\n      \"properties\": {\n        \"dtype\": \"number\",\n        \"std\": 0.3312329407364398,\n        \"min\": -0.033522672962613034,\n        \"max\": 1.0,\n        \"num_unique_values\": 9,\n        \"samples\": [\n          0.5443412284023392,\n          0.12791147208431844,\n          0.0215587287096652\n        ],\n        \"semantic_type\": \"\",\n        \"description\": \"\"\n      }\n    },\n    {\n      \"column\": \"Glucose\",\n      \"properties\": {\n        \"dtype\": \"number\",\n        \"std\": 0.27501758914162805,\n        \"min\": 0.12791147208431844,\n        \"max\": 1.0,\n        \"num_unique_values\": 9,\n        \"samples\": [\n          0.26653351684785304,\n          1.0,\n          0.2311283139568919\n        ],\n        \"semantic_type\": \"\",\n        \"description\": \"\"\n      }\n    },\n    {\n      \"column\": \"BloodPressure\",\n      \"properties\": {\n        \"dtype\": \"number\",\n        \"std\": 0.29247730272832173,\n        \"min\": -0.0027633639268707997,\n        \"max\": 1.0,\n        \"num_unique_values\": 9,\n        \"samples\": [\n          0.3245949388883346,\n          0.21836691755561496,\n          0.28119907482218215\n        ],\n        \"semantic_type\": \"\",\n        \"description\": \"\"\n      }\n    },\n    {\n      \"column\": \"SkinThickness\",\n      \"properties\": {\n        \"dtype\": \"number\",\n        \"std\": 0.29927282875110606,\n        \"min\": 0.08176982300694918,\n        \"max\": 1.0,\n        \"num_unique_values\": 9,\n        \"samples\": [\n          0.12610718967353202,\n          0.19268585591450346,\n          0.5432050699718665\n        ],\n        \"semantic_type\": \"\",\n        \"description\": \"\"\n      }\n    },\n    {\n      \"column\": \"Insulin\",\n      \"properties\": {\n        \"dtype\": \"number\",\n        \"std\": 0.3037711540829386,\n        \"min\": 0.025047480864533175,\n        \"max\": 1.0,\n        \"num_unique_values\": 9,\n        \"samples\": [\n          0.0971012484579782,\n          0.4190635368728673,\n          0.18024113709662082\n        ],\n        \"semantic_type\": \"\",\n        \"description\": \"\"\n      }\n    },\n    {\n      \"column\": \"BMI\",\n      \"properties\": {\n        \"dtype\": \"number\",\n        \"std\": 0.30470874790501934,\n        \"min\": 0.0215587287096652,\n        \"max\": 1.0,\n        \"num_unique_values\": 9,\n        \"samples\": [\n          0.025596911257153274,\n          0.2311283139568919,\n          1.0\n        ],\n        \"semantic_type\": \"\",\n        \"description\": \"\"\n      }\n    },\n    {\n      \"column\": \"DiabetesPedigreeFunction\",\n      \"properties\": {\n        \"dtype\": \"number\",\n        \"std\": 0.3130082522421801,\n        \"min\": -0.033522672962613034,\n        \"max\": 1.0,\n        \"num_unique_values\": 9,\n        \"samples\": [\n          0.03356131243480539,\n          0.13705971047913965,\n          0.15343767269428213\n        ],\n        \"semantic_type\": \"\",\n        \"description\": \"\"\n      }\n    },\n    {\n      \"column\": \"Age\",\n      \"properties\": {\n        \"dtype\": \"number\",\n        \"std\": 0.31078681293850446,\n        \"min\": 0.025596911257153274,\n        \"max\": 1.0,\n        \"num_unique_values\": 9,\n        \"samples\": [\n          1.0,\n          0.26653351684785304,\n          0.025596911257153274\n        ],\n        \"semantic_type\": \"\",\n        \"description\": \"\"\n      }\n    },\n    {\n      \"column\": \"Outcome\",\n      \"properties\": {\n        \"dtype\": \"number\",\n        \"std\": 0.2683213164588437,\n        \"min\": 0.16607366868294898,\n        \"max\": 1.0,\n        \"num_unique_values\": 9,\n        \"samples\": [\n          0.23835598302719757,\n          0.49292766761250945,\n          0.31203833867711117\n        ],\n        \"semantic_type\": \"\",\n        \"description\": \"\"\n      }\n    }\n  ]\n}"
            }
          },
          "metadata": {},
          "execution_count": 10
        }
      ]
    },
    {
      "cell_type": "markdown",
      "metadata": {
        "id": "PnRYznyBhFs8"
      },
      "source": [
        "<p style=\"font-weight: bold;color:#FF4500\"><b>Observations</b></p>  \n",
        "\n",
        "* From the correlation map you just obtained above, it seems that Insulin is highly correlated with Glucose, BMI and Age. It means that as the values of glucose, BMI and Age increase, the insulin is also increasing. It seems logical also that overweight and elderly people might have a higher level of insulin in their bodies.  \n",
        "\n",
        "* In the same way SkinThickness is highly correlated with BMI."
      ]
    },
    {
      "cell_type": "markdown",
      "metadata": {
        "id": "ibQhQ3qihFs-"
      },
      "source": [
        "## Checking  if the data is balanced or imbalanced\n",
        "\n",
        "We can produce a seaborn count plot to check if the output is dominated by one of the classes or not."
      ]
    },
    {
      "cell_type": "code",
      "metadata": {
        "trusted": true,
        "colab": {
          "base_uri": "https://localhost:8080/",
          "height": 618
        },
        "id": "5Vo4IoVfhFs-",
        "outputId": "fd1d8440-c547-43f5-af48-1ec9e7f461de"
      },
      "source": [
        "plt.figure(figsize=(12,6))\n",
        "sns.countplot(x='Outcome',data=diabetes_data, palette='bright')\n",
        "plt.title(\"Output class distribution\")\n",
        "\n",
        "print(diabetes_data['Outcome'].value_counts())"
      ],
      "execution_count": 11,
      "outputs": [
        {
          "output_type": "stream",
          "name": "stdout",
          "text": [
            "0    500\n",
            "1    268\n",
            "Name: Outcome, dtype: int64\n"
          ]
        },
        {
          "output_type": "display_data",
          "data": {
            "text/plain": [
              "<Figure size 1200x600 with 1 Axes>"
            ],
            "image/png": "[encoded data removed]"
          },
          "metadata": {}
        }
      ]
    },
    {
      "cell_type": "markdown",
      "metadata": {
        "id": "jsO1fRfGhFs_"
      },
      "source": [
        "<p style=\"font-weight: bold;color:#FF4500\"><b>Observations</b></p>  \n",
        "\n",
        "A total of 768 women were registered in the database. 268 women had diabetes, while 500 women did not have diabetes.\n",
        "\n",
        "The above graph shows that the dataset is biased towards non-diabetic people. The number of non-diabetic people is almost twice the number of diabetic patients."
      ]
    },
    {
      "cell_type": "markdown",
      "metadata": {
        "id": "ZLZVGWpUhFs_"
      },
      "source": [
        "## Scatter matrix of data"
      ]
    },
    {
      "cell_type": "markdown",
      "metadata": {
        "id": "KqCv0o359ydE"
      },
      "source": [
        "A pair-plot builds on two basic figures, the histogram and the scatter plot. The histogram on the diagonal allows us to see the distribution of a single variable while the scatter plots on the upper and lower triangles show the relationship (or lack thereof) between two variables."
      ]
    },
    {
      "cell_type": "code",
      "metadata": {
        "trusted": true,
        "id": "LXD7RCUjhFs_"
      },
      "source": [
        "## TASK-2: Display a pairplot using Seaborn for the diabetes dataset, with the 'outcome' as the hue."
      ],
      "execution_count": 12,
      "outputs": []
    },
    {
      "cell_type": "markdown",
      "source": [
        "This code uses Seaborn's pairplot function to create a grid of scatterplots for each pair of features, with points colored based on whether the person is diabetic (1) or not (0). The blue color represents non-diabetic, and orange represents diabetic."
      ],
      "metadata": {
        "id": "2EYUwONxvhkw"
      }
    },
    {
      "cell_type": "code",
      "source": [
        "# Set the style for the plot\n",
        "sns.set(style=\"ticks\", color_codes=True)\n",
        "\n",
        "# Create a pairplot\n",
        "sns.pairplot(diabetes_data, hue='Outcome', palette={0: 'blue', 1: 'orange'})\n",
        "\n",
        "# Show the plot\n",
        "plt.show()"
      ],
      "metadata": {
        "id": "NaSNN3lqvjmz"
      },
      "execution_count": null,
      "outputs": []
    },
    {
      "cell_type": "markdown",
      "metadata": {
        "id": "YyIfVZGz-AVA"
      },
      "source": [
        "## BMI vs Outcome"
      ]
    },
    {
      "cell_type": "code",
      "metadata": {
        "trusted": true,
        "id": "1C9GazEwhFtA"
      },
      "source": [
        "plt.figure(figsize=(12,8))\n",
        "sns.boxplot(x='Outcome', y='BMI',data=diabetes_data, hue='Outcome')"
      ],
      "execution_count": null,
      "outputs": []
    },
    {
      "cell_type": "markdown",
      "metadata": {
        "id": "-zeDFUjIhFtA"
      },
      "source": [
        "<p style=\"font-weight: bold;color:#FF4500\"><b>Observations</b></p>\n",
        "\n",
        "It is surprising that the median BMI does not significanty change as the number of pregnancies increases. Those who tested positive for diabetes had higher BMIs than those who did not. However,there is not a very large difference between the medians.\n",
        "\n",
        "BMI might be higher for women who have had more numbers of pregnancies as well as for those who test positive for diabetes and that the relationship between the pedigree function and the test results will show that those who had a higher pedigree function tested positive and those who had a lower pedigree function tested negative."
      ]
    },
    {
      "cell_type": "markdown",
      "metadata": {
        "id": "5TVSVM2qhFtA"
      },
      "source": [
        "## Pedigree function vs Diabetes"
      ]
    },
    {
      "cell_type": "code",
      "metadata": {
        "id": "96GqOonO-bkE"
      },
      "source": [
        "## TASK-3: Display a boxplot between the Pedigree function and Diabetes."
      ],
      "execution_count": null,
      "outputs": []
    },
    {
      "cell_type": "markdown",
      "source": [
        "This code uses Seaborn's boxplot function to create a boxplot comparing the distribution of the Diabetes Pedigree Function for individuals with and without diabetes. The 'Outcome' variable is used to differentiate between the two groups, and the hue is set to 'Outcome' for better visualization. The resulting plot provides insights into how the Diabetes Pedigree Function varies for diabetic and non-diabetic individuals"
      ],
      "metadata": {
        "id": "OAI8VNPPwYz7"
      }
    },
    {
      "cell_type": "code",
      "source": [
        "# Boxplot between Pedigree Function and Outcome (Diabetes)\n",
        "plt.figure(figsize=(12, 8))\n",
        "sns.boxplot(x='Outcome', y='DiabetesPedigreeFunction', data=diabetes_data, hue='Outcome')\n",
        "plt.title('Pedigree Function vs Diabetes')\n",
        "plt.show()"
      ],
      "metadata": {
        "id": "Jdb0VBu0wdk8"
      },
      "execution_count": null,
      "outputs": []
    },
    {
      "cell_type": "markdown",
      "metadata": {
        "id": "EnRxDLryhFtB"
      },
      "source": [
        "<p style=\"font-weight: bold;color:#FF4500\"><b>Observations</b></p>\n",
        "This graph more clearly shows the relationship between the pedigree function and the test results that the women got for diabetes. Since those who tested positive have a higher median and more high outliers, it is clear that the pedigree function does in fact, accurately help estimate the test results for diabetes. It shows that diabetes does follow genetics so those whose ancestors suffered from it have a higher risk of getting the disease themselves as well. Both test results show many outliers yet the outliers for those who tested negative seem to have lower pedigree functions than those who tested positive. This indicates that the genetic component is likely to contribute more to the emergence of diabetes in the Pima Indians and their offspring."
      ]
    },
    {
      "cell_type": "markdown",
      "metadata": {
        "id": "Haicc9d0hFtB"
      },
      "source": [
        "## Pregnancy vs Diabetes"
      ]
    },
    {
      "cell_type": "code",
      "metadata": {
        "id": "u_x36kL5_Iyt"
      },
      "source": [
        "## TASK-4: Display a boxplot between the number of Pregnancies and Diabetes."
      ],
      "execution_count": null,
      "outputs": []
    },
    {
      "cell_type": "code",
      "source": [
        "# Boxplot between Pregnancies and Outcome (Diabetes)\n",
        "plt.figure(figsize=(12, 8))\n",
        "sns.boxplot(x='Outcome', y='Pregnancies', data=diabetes_data, hue='Outcome')\n",
        "plt.title('Number of Pregnancies vs Diabetes')\n",
        "plt.show()"
      ],
      "metadata": {
        "id": "_nre7LeTwqTa"
      },
      "execution_count": null,
      "outputs": []
    },
    {
      "cell_type": "markdown",
      "metadata": {
        "id": "IR5LPr3phFtC"
      },
      "source": [
        "<p style=\"font-weight: bold;color:#FF4500\"><b>Observations</b></p>\n",
        "\n",
        "The average number of pregnancies is higher in diabetic as compared to non-diabetic women."
      ]
    },
    {
      "cell_type": "markdown",
      "metadata": {
        "id": "dmvNQIOFhFtC"
      },
      "source": [
        "## Prevalence of Diabetes vs BMI\n",
        "\n",
        "Let's try to find out the prevalence of diabetes and its relation to their BMI. Please note that the range of normal BMI is 18.5 to 25."
      ]
    },
    {
      "cell_type": "code",
      "metadata": {
        "trusted": true,
        "id": "3kCMTdmGhFtC"
      },
      "source": [
        "normalBMIData = diabetes_data[(diabetes_data['BMI'] >= 18.5) & (diabetes_data['BMI'] <= 25)]\n",
        "normalBMIData['Outcome'].value_counts()"
      ],
      "execution_count": null,
      "outputs": []
    },
    {
      "cell_type": "code",
      "metadata": {
        "trusted": true,
        "id": "Z--JC25ehFtC"
      },
      "source": [
        "notNormalBMIData = diabetes_data[(diabetes_data['BMI'] < 18.5) | (diabetes_data['BMI'] > 25)]\n",
        "notNormalBMIData['Outcome'].value_counts()"
      ],
      "execution_count": null,
      "outputs": []
    },
    {
      "cell_type": "code",
      "metadata": {
        "trusted": true,
        "id": "wrdJR1wkhFtD"
      },
      "source": [
        "plt.figure(figsize=(12,8))\n",
        "sns.boxplot(x='Outcome', y='BMI',data=notNormalBMIData)"
      ],
      "execution_count": null,
      "outputs": []
    },
    {
      "cell_type": "markdown",
      "metadata": {
        "id": "u8D7KzjphFtD"
      },
      "source": [
        "<p style=\"font-weight: bold;color:#FF4500\"><b>Observations</b></p>\n",
        "\n",
        "The Body Mass Index (BMI) shows a significant association with the occurrence of diabetes.  \n",
        "The interquartile range for the women who tested positive reaches a higher BMI than the IQR for those who tested negative. Therefore, women could have higher BMIs and not be outliers if they tested positive as opposed to negative, showing that more women who tested positive did, in fact, have higher BMIs than those who tested negative.\n"
      ]
    },
    {
      "cell_type": "markdown",
      "metadata": {
        "id": "f1_nVeb8hFtD"
      },
      "source": [
        "## Age vs Diabetes"
      ]
    },
    {
      "cell_type": "code",
      "metadata": {
        "id": "-s-5gavNAf0m"
      },
      "source": [
        "## TASK-5: Display a boxplot between Age and Diabetes."
      ],
      "execution_count": null,
      "outputs": []
    },
    {
      "cell_type": "markdown",
      "source": [
        "This code uses Seaborn's boxplot function to create a boxplot comparing the distribution of Age for individuals with and without diabetes. The 'Outcome' variable is used to differentiate between the two groups, and the hue is set to 'Outcome' for better visualization. The resulting plot provides insights into how Age varies for diabetic and non-diabetic individuals."
      ],
      "metadata": {
        "id": "2k-O02Bzw4b3"
      }
    },
    {
      "cell_type": "code",
      "source": [
        "# Boxplot between Age and Outcome (Diabetes)\n",
        "plt.figure(figsize=(12, 8))\n",
        "sns.boxplot(x='Outcome', y='Age', data=diabetes_data, hue='Outcome')\n",
        "plt.title('Age vs Diabetes')\n",
        "plt.show()"
      ],
      "metadata": {
        "id": "jHraOpkjw5ZW"
      },
      "execution_count": null,
      "outputs": []
    },
    {
      "cell_type": "markdown",
      "metadata": {
        "id": "skK67P9mhFtE"
      },
      "source": [
        "<p style=\"font-weight: bold;color:#FF4500\"><b>Observations</b></p>  \n",
        "\n",
        "A significant relation can be seen between the age distribution and occurrence of diabetes. Women at age group > 31 years were at higher risk of getting diabetes in comparison to the younger age group."
      ]
    },
    {
      "cell_type": "markdown",
      "metadata": {
        "id": "MKo2iJYbhFtE"
      },
      "source": [
        "# The Importance of Standardizing Data"
      ]
    },
    {
      "cell_type": "code",
      "metadata": {
        "trusted": true,
        "id": "DfNzaXgJhFtF"
      },
      "source": [
        "unchanged_data = diabetes_data.drop('Outcome',axis=1)"
      ],
      "execution_count": null,
      "outputs": []
    },
    {
      "cell_type": "code",
      "metadata": {
        "id": "69yA8N2xp8w-"
      },
      "source": [
        "unchanged_data"
      ],
      "execution_count": null,
      "outputs": []
    },
    {
      "cell_type": "code",
      "metadata": {
        "trusted": true,
        "id": "j78tjiVkhFtG"
      },
      "source": [
        "from sklearn.model_selection import train_test_split"
      ],
      "execution_count": null,
      "outputs": []
    },
    {
      "cell_type": "code",
      "metadata": {
        "id": "e_lGuVYyI0wj"
      },
      "source": [
        "from sklearn.metrics import classification_report,confusion_matrix\n",
        "from sklearn.neighbors import KNeighborsClassifier"
      ],
      "execution_count": null,
      "outputs": []
    },
    {
      "cell_type": "markdown",
      "metadata": {
        "id": "j0AsnKb-hFtI"
      },
      "source": [
        "# Choosing a K Value\n",
        "Let's go ahead and use the elbow method to pick a good K Value!\n",
        "\n",
        "*Create a for loop that trains various KNN models with different k values, then keep track of the error_rate for each of these models with a list.*"
      ]
    },
    {
      "cell_type": "code",
      "metadata": {
        "id": "WBciXF40Jzoh"
      },
      "source": [
        "##########################\n",
        "##########################\n",
        "\n",
        "## TASK-6 : Complete the lines of code wherever marked as [REQUIRED] in this cell.\n",
        "\n",
        "##########################\n",
        "##########################\n",
        "\n",
        "\n",
        "def plot_KNN_error_rate(xdata,ydata):\n",
        "  error_rate = []\n",
        "  test_scores = []\n",
        "  train_scores = []\n",
        "\n",
        "  ## [REQUIRED] Split the data into train and test sets in a 70:30 ratio (70% train, 30% test)\n",
        "  X_train, X_test, y_train, y_test = ## Write your code here (expected lines ~ 1)\n",
        "\n",
        "  for i in range(1,40):\n",
        "      ## [REQUIRED] Complete the code in the next three lines\n",
        "      knn = ## Write your code here. Initialize the KNN classifier with 'i' neighbours (expected lines ~ 1)\n",
        "      ## Write your code here. Fit the KNN model on the training set (expected lines ~ 1)\n",
        "      pred_i = ## Write your code here. Make predictions on the test set using KNN (expected lines ~ 1)\n",
        "\n",
        "      error_rate.append(np.mean(pred_i != y_test))\n",
        "      train_scores.append(knn.score(X_train,y_train))\n",
        "      test_scores.append(knn.score(X_test,y_test))\n",
        "\n",
        "  plt.figure(figsize=(12,8))\n",
        "  plt.plot(range(1,40),error_rate,color='blue', linestyle='dashed', marker='o',\n",
        "          markerfacecolor='red', markersize=10)\n",
        "  plt.title('Error Rate vs. K Value')\n",
        "  plt.xlabel('K')\n",
        "  plt.ylabel('Error Rate')\n",
        "  print()\n",
        "  ## score that comes from testing on the same datapoints that were used for training\n",
        "  max_train_score = max(train_scores)\n",
        "  train_scores_ind = [i for i, v in enumerate(train_scores) if v == max_train_score]\n",
        "  print('Max train score {} % and k = {}'.format(max_train_score*100,list(map(lambda x: x+1, train_scores_ind))))\n",
        "  print()\n",
        "  ## score that comes from testing on the datapoints that were split in the beginning to be used for testing solely\n",
        "  max_test_score = max(test_scores)\n",
        "  test_scores_ind = [i for i, v in enumerate(test_scores) if v == max_test_score]\n",
        "  print('Max test score {} % and k = {}'.format(max_test_score*100,list(map(lambda x: x+1, test_scores_ind))))\n",
        "\n",
        "  return test_scores"
      ],
      "execution_count": null,
      "outputs": []
    },
    {
      "cell_type": "code",
      "metadata": {
        "id": "Xm8uwN1ZC7hp"
      },
      "source": [
        "#@title Answer to Task-6. Refer to and run this only if you are unable to complete the task in the previous cell.\n",
        "def plot_KNN_error_rate(xdata,ydata):\n",
        "  error_rate = []\n",
        "  test_scores = []\n",
        "  train_scores = []\n",
        "\n",
        "  X_train, X_test, y_train, y_test = train_test_split(xdata, ydata, test_size=0.3, random_state=101)\n",
        "\n",
        "  for i in range(1,40):\n",
        "      knn = KNeighborsClassifier(n_neighbors=i)\n",
        "      knn.fit(X_train, y_train)\n",
        "      pred_i = knn.predict(X_test)\n",
        "\n",
        "      error_rate.append(np.mean(pred_i != y_test))\n",
        "      train_scores.append(knn.score(X_train,y_train))\n",
        "      test_scores.append(knn.score(X_test,y_test))\n",
        "\n",
        "  plt.figure(figsize=(12,8))\n",
        "  plt.plot(range(1,40),error_rate,color='blue', linestyle='dashed', marker='o',\n",
        "          markerfacecolor='red', markersize=10)\n",
        "  plt.title('Error Rate vs. K Value')\n",
        "  plt.xlabel('K')\n",
        "  plt.ylabel('Error Rate')\n",
        "  print()\n",
        "  ## score that comes from testing on the same datapoints that were used for training\n",
        "  max_train_score = max(train_scores)\n",
        "  train_scores_ind = [i for i, v in enumerate(train_scores) if v == max_train_score]\n",
        "  print('Max train score {} % and k = {}'.format(max_train_score*100,list(map(lambda x: x+1, train_scores_ind))))\n",
        "  print()\n",
        "  ## score that comes from testing on the datapoints that were split in the beginning to be used for testing solely\n",
        "  max_test_score = max(test_scores)\n",
        "  test_scores_ind = [i for i, v in enumerate(test_scores) if v == max_test_score]\n",
        "  print('Max test score {} % and k = {}'.format(max_test_score*100,list(map(lambda x: x+1, test_scores_ind))))\n",
        "\n",
        "  return test_scores"
      ],
      "execution_count": null,
      "outputs": []
    },
    {
      "cell_type": "code",
      "metadata": {
        "id": "8Rj96qrEOKVw"
      },
      "source": [
        "unchanged_test_scores = plot_KNN_error_rate(unchanged_data,diabetes_data['Outcome'])"
      ],
      "execution_count": null,
      "outputs": []
    },
    {
      "cell_type": "markdown",
      "metadata": {
        "id": "5OZFsqr1hFtE"
      },
      "source": [
        "## Standardize the Variables\n",
        "Standardization (also called z-score normalization) is the process of putting different variables on the same scale. Standardization transforms your data such that the resulting distribution has a mean of 0 and a standard deviation of 1.\n",
        "\n",
        "$$ Z = {X - \\mu \\over \\sigma}$$\n"
      ]
    },
    {
      "cell_type": "code",
      "metadata": {
        "trusted": true,
        "id": "kgZdXekchFtE"
      },
      "source": [
        "from sklearn.preprocessing import StandardScaler\n",
        "scaler = StandardScaler()"
      ],
      "execution_count": null,
      "outputs": []
    },
    {
      "cell_type": "code",
      "metadata": {
        "trusted": true,
        "id": "0hyAXJ_vhFtF"
      },
      "source": [
        "scaler.fit(diabetes_data.drop('Outcome',axis=1))"
      ],
      "execution_count": null,
      "outputs": []
    },
    {
      "cell_type": "code",
      "metadata": {
        "id": "y6dMR3MJFFdA"
      },
      "source": [
        "scaled_data = scaler.transform(diabetes_data.drop('Outcome',axis=1))"
      ],
      "execution_count": null,
      "outputs": []
    },
    {
      "cell_type": "code",
      "metadata": {
        "trusted": true,
        "id": "OFANLGLuhFtF"
      },
      "source": [
        "df_feat = pd.DataFrame(scaled_data,columns=diabetes_data.columns[:-1])\n",
        "df_feat.head()"
      ],
      "execution_count": null,
      "outputs": []
    },
    {
      "cell_type": "code",
      "metadata": {
        "id": "fwuhzRarQRRQ"
      },
      "source": [
        "scaled_test_scores = plot_KNN_error_rate(scaled_data,diabetes_data['Outcome'])"
      ],
      "execution_count": null,
      "outputs": []
    },
    {
      "cell_type": "markdown",
      "metadata": {
        "id": "WoBBRF8FRkrV"
      },
      "source": [
        "## Comparing Accuracy before and after Standardization"
      ]
    },
    {
      "cell_type": "code",
      "metadata": {
        "id": "M9uVwaaBQ7RE"
      },
      "source": [
        "plt.figure(figsize=(20,8))\n",
        "plt.title('Accuracy vs. K Value')\n",
        "sns.lineplot(unchanged_test_scores,marker='o',label='Unscaled data test score')\n",
        "sns.lineplot(scaled_test_scores,marker='o',label='Scaled data test Score')"
      ],
      "execution_count": null,
      "outputs": []
    },
    {
      "cell_type": "code",
      "metadata": {
        "id": "nJeZOI-KFKTU"
      },
      "source": [
        "## TASK-7: Refer to MinMax Scaler provided in scikit-learn.\n",
        "## Use MinMax scaling on the dataset, and see the performance of KNN on this minmax-scaled dataset."
      ],
      "execution_count": null,
      "outputs": []
    },
    {
      "cell_type": "markdown",
      "source": [
        "In this code:\n",
        "\n",
        "MinMaxScaler from scikit-learn is used to scale the features in the range [0, 1]. The dataset is split into training and testing sets. The MinMaxScaler is fit and applied to the training data, and the same scaler is used to transform the testing data. A KNN classifier is initialized and trained on the scaled training data. Predictions are made on the scaled testing data. The performance of the KNN model on the scaled dataset is evaluated using accuracy, confusion matrix, and classification report"
      ],
      "metadata": {
        "id": "nccB0873zf91"
      }
    },
    {
      "cell_type": "code",
      "source": [
        "from sklearn.preprocessing import MinMaxScaler\n",
        "from sklearn.model_selection import train_test_split\n",
        "from sklearn.neighbors import KNeighborsClassifier\n",
        "from sklearn.metrics import accuracy_score, classification_report, confusion_matrix\n",
        "\n",
        "# Separate features (X) and target variable (y)\n",
        "X = diabetes_data.drop('Outcome', axis=1)\n",
        "y = diabetes_data['Outcome']\n",
        "\n",
        "# Split the dataset into training and testing sets\n",
        "X_train, X_test, y_train, y_test = train_test_split(X, y, test_size=0.2, random_state=42)\n",
        "\n",
        "# Initialize MinMaxScaler\n",
        "scaler = MinMaxScaler()\n",
        "\n",
        "# Fit and transform the training data\n",
        "X_train_scaled = scaler.fit_transform(X_train)\n",
        "\n",
        "# Transform the testing data using the same scaler\n",
        "X_test_scaled = scaler.transform(X_test)\n",
        "\n",
        "# Initialize KNN classifier\n",
        "knn = KNeighborsClassifier(n_neighbors=5)\n",
        "\n",
        "# Train the model on the scaled training data\n",
        "knn.fit(X_train_scaled, y_train)\n",
        "\n",
        "# Make predictions on the scaled testing data\n",
        "y_pred_scaled = knn.predict(X_test_scaled)\n",
        "\n",
        "# Evaluate the performance of KNN on the scaled dataset\n",
        "accuracy_scaled = accuracy_score(y_test, y_pred_scaled)\n",
        "confusion_matrix_scaled = confusion_matrix(y_test, y_pred_scaled)\n",
        "classification_report_scaled = classification_report(y_test, y_pred_scaled)\n",
        "\n",
        "# Print the results\n",
        "print(f\"Accuracy on MinMax-scaled dataset: {accuracy_scaled:.4f}\")\n",
        "print(\"\\nConfusion Matrix:\")\n",
        "print(confusion_matrix_scaled)\n",
        "print(\"\\nClassification Report:\")\n",
        "print(classification_report_scaled)"
      ],
      "metadata": {
        "id": "vb3rgTcmzloi"
      },
      "execution_count": null,
      "outputs": []
    },
    {
      "cell_type": "code",
      "metadata": {
        "id": "QBzds9_dFmgz"
      },
      "source": [
        "## TASK-8: Use K-Fold cross validation on all the above classification experiments and present an analysis of the results you obtain."
      ],
      "execution_count": null,
      "outputs": []
    },
    {
      "cell_type": "markdown",
      "source": [
        "In this code:\n",
        "\n",
        "The classifiers used are KNN, Logistic Regression, Random Forest, and SVM. You can add more classifiers if needed. The dataset is scaled using MinMaxScaler. K-Fold cross-validation is performed using cross_val_score with 5 folds. Mean accuracy and standard deviation of accuracy across folds are printed for each classifier."
      ],
      "metadata": {
        "id": "Z7n-LQAFzr3H"
      }
    },
    {
      "cell_type": "code",
      "source": [
        "from sklearn.model_selection import cross_val_score, KFold\n",
        "from sklearn.preprocessing import MinMaxScaler\n",
        "from sklearn.neighbors import KNeighborsClassifier\n",
        "from sklearn.linear_model import LogisticRegression\n",
        "from sklearn.ensemble import RandomForestClassifier\n",
        "from sklearn.svm import SVC\n",
        "\n",
        "# Separate features (X) and target variable (y)\n",
        "X = diabetes_data.drop('Outcome', axis=1)\n",
        "y = diabetes_data['Outcome']\n",
        "\n",
        "# Initialize MinMaxScaler\n",
        "scaler = MinMaxScaler()\n",
        "X_scaled = scaler.fit_transform(X)\n",
        "\n",
        "# Initialize classifiers\n",
        "knn = KNeighborsClassifier(n_neighbors=5)\n",
        "logistic_reg = LogisticRegression(random_state=42)\n",
        "random_forest = RandomForestClassifier(random_state=42)\n",
        "svm_classifier = SVC(random_state=42)\n",
        "\n",
        "classifiers = [knn, logistic_reg, random_forest, svm_classifier]\n",
        "classifiers_names = ['KNN', 'Logistic Regression', 'Random Forest', 'SVM']\n",
        "\n",
        "# Initialize K-Fold cross-validation\n",
        "kfold = KFold(n_splits=5, shuffle=True, random_state=42)\n",
        "\n",
        "# Perform K-Fold cross-validation for each classifier\n",
        "for classifier, name in zip(classifiers, classifiers_names):\n",
        "    scores = cross_val_score(classifier, X_scaled, y, cv=kfold, scoring='accuracy')\n",
        "    print(f\"{name} - Mean Accuracy: {scores.mean():.4f}, Standard Deviation: {scores.std():.4f}\")"
      ],
      "metadata": {
        "id": "_1Jbxok9zt9F"
      },
      "execution_count": null,
      "outputs": []
    },
    {
      "cell_type": "markdown",
      "metadata": {
        "id": "Mj2xeXZthFtM"
      },
      "source": [
        "# Conclusion\n",
        "\n",
        "From the data analysis we carried out, it seems that there is some form of an association between BMI, number of pregnancies, pedigree function, and the test results for diabetes.\n",
        "\n",
        "As for the classification tasks, the standardized data yields much better results than the unscaled data over most of the K-values considered, thus indicating the importance of standardizing data in Machine Learning problems."
      ]
    },
    {
      "cell_type": "markdown",
      "metadata": {
        "id": "aubGhsTSjJLM"
      },
      "source": [
        "# References"
      ]
    },
    {
      "cell_type": "markdown",
      "metadata": {
        "id": "XehDqRkdjN0_"
      },
      "source": [
        "https://www.kaggle.com/dktalaicha/diabetes-prediction-by-knn"
      ]
    }
  ]
}